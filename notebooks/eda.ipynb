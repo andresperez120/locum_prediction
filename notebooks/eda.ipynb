{
 "cells": [
  {
   "cell_type": "markdown",
   "id": "e704a495",
   "metadata": {},
   "source": [
    "# Exploratory Data Analysis (EDA)\n",
    "\n",
    "This notebook is for analyzing the cleaned locum tenens job data. I will explore trends in pay rates by specialty, location, and seasonality to answer our core research questions.\n"
   ]
  },
  {
   "cell_type": "code",
   "execution_count": null,
   "id": "a70aa7fb",
   "metadata": {},
   "outputs": [
    {
     "name": "stdout",
     "output_type": "stream",
     "text": [
      "Successfully loaded the cleaned dataset.\n",
      "Dataset shape: (2019, 16)\n"
     ]
    }
   ],
   "source": [
    "# Load Data & Initial Setup\n",
    "import os\n",
    "import pandas as pd\n",
    "import plotly.express as px\n",
    "\n",
    "# Set plotly to a clean template\n",
    "px.defaults.template = \"plotly_white\"\n",
    "\n",
    "# Load the cleaned data from the Parquet file\n",
    "PROCESSED_DATA_PATH = os.path.join('..', 'data', 'processed', 'jobs.parquet')\n",
    "\n",
    "# Check if the file exists before trying to load\n",
    "if os.path.exists(PROCESSED_DATA_PATH):\n",
    "    df = pd.read_parquet(PROCESSED_DATA_PATH)\n",
    "    print(\"Successfully loaded the cleaned dataset.\")\n",
    "    print(f\"Dataset shape: {df.shape}\")\n",
    "else:\n",
    "    print(f\"Error: Processed data file not found at {PROCESSED_DATA_PATH}\")\n",
    "    print(\"Please run the data cleaning script first (`src/data_cleaning.py`).\")\n",
    "    df = pd.DataFrame() # Create an empty DataFrame to prevent errors in cells\n",
    "\n"
   ]
  },
  {
   "cell_type": "code",
   "execution_count": null,
   "id": "bd8aa474",
   "metadata": {},
   "outputs": [
    {
     "data": {
      "text/html": [
       "<div>\n",
       "<style scoped>\n",
       "    .dataframe tbody tr th:only-of-type {\n",
       "        vertical-align: middle;\n",
       "    }\n",
       "\n",
       "    .dataframe tbody tr th {\n",
       "        vertical-align: top;\n",
       "    }\n",
       "\n",
       "    .dataframe thead th {\n",
       "        text-align: right;\n",
       "    }\n",
       "</style>\n",
       "<table border=\"1\" class=\"dataframe\">\n",
       "  <thead>\n",
       "    <tr style=\"text-align: right;\">\n",
       "      <th></th>\n",
       "      <th>job_id</th>\n",
       "      <th>job_title</th>\n",
       "      <th>specialty</th>\n",
       "      <th>state</th>\n",
       "      <th>state_id</th>\n",
       "      <th>city</th>\n",
       "      <th>description_html</th>\n",
       "      <th>posted_date</th>\n",
       "      <th>start_date</th>\n",
       "      <th>end_date</th>\n",
       "      <th>source</th>\n",
       "      <th>job_id_string</th>\n",
       "      <th>scrape_timestamp_utc</th>\n",
       "      <th>rate_hourly</th>\n",
       "      <th>rate_daily</th>\n",
       "      <th>job_url</th>\n",
       "    </tr>\n",
       "  </thead>\n",
       "  <tbody>\n",
       "    <tr>\n",
       "      <th>0</th>\n",
       "      <td>8278</td>\n",
       "      <td>Infectious Disease Locum Opportunity in Indiana</td>\n",
       "      <td>Infectious Disease</td>\n",
       "      <td>Indiana</td>\n",
       "      <td>IN</td>\n",
       "      <td>Indianapolis</td>\n",
       "      <td>&lt;h1&gt;&lt;strong style=\"background-color: transpare...</td>\n",
       "      <td>2025-08-15 05:57:47.363</td>\n",
       "      <td>2025-12-01</td>\n",
       "      <td>2026-06-30</td>\n",
       "      <td>LocumSmart</td>\n",
       "      <td>JB-IN-INFE-081525-8278</td>\n",
       "      <td>2025-08-15T14:01:31.995865</td>\n",
       "      <td>NaN</td>\n",
       "      <td>NaN</td>\n",
       "      <td>https://www.prolocums.com/job-detail/JB-IN-INF...</td>\n",
       "    </tr>\n",
       "    <tr>\n",
       "      <th>1</th>\n",
       "      <td>1103</td>\n",
       "      <td>Internal Medicine Locum Opportunity in California</td>\n",
       "      <td>Internal Medicine</td>\n",
       "      <td>California</td>\n",
       "      <td>CA</td>\n",
       "      <td>Fortuna</td>\n",
       "      <td>&lt;p&gt;&lt;span style=\"background-color: rgb(255, 255...</td>\n",
       "      <td>NaT</td>\n",
       "      <td>NaT</td>\n",
       "      <td>NaT</td>\n",
       "      <td>LocumSmart</td>\n",
       "      <td>JB-CA-INME-032123-1103</td>\n",
       "      <td>2025-08-15T14:01:31.995865</td>\n",
       "      <td>150.0</td>\n",
       "      <td>1200.0</td>\n",
       "      <td>https://www.prolocums.com/job-detail/JB-CA-INM...</td>\n",
       "    </tr>\n",
       "    <tr>\n",
       "      <th>2</th>\n",
       "      <td>1085</td>\n",
       "      <td>Hospitalist Locum Opportunity in Montana</td>\n",
       "      <td>Hospitalist</td>\n",
       "      <td>Montana</td>\n",
       "      <td>MT</td>\n",
       "      <td>Missoula</td>\n",
       "      <td>&lt;p&gt;&lt;span style=\"background-color: rgb(255, 255...</td>\n",
       "      <td>NaT</td>\n",
       "      <td>NaT</td>\n",
       "      <td>NaT</td>\n",
       "      <td>LocumSmart</td>\n",
       "      <td>JB-MT-HOSP-031623-1085</td>\n",
       "      <td>2025-08-15T14:01:31.995865</td>\n",
       "      <td>200.0</td>\n",
       "      <td>1600.0</td>\n",
       "      <td>https://www.prolocums.com/job-detail/JB-MT-HOS...</td>\n",
       "    </tr>\n",
       "    <tr>\n",
       "      <th>3</th>\n",
       "      <td>1086</td>\n",
       "      <td>Hospitalist Locum Opportunity in Wyoming</td>\n",
       "      <td>Hospitalist</td>\n",
       "      <td>Wyoming</td>\n",
       "      <td>WY</td>\n",
       "      <td>Riverton</td>\n",
       "      <td>&lt;ul&gt;&lt;li&gt;&lt;span style=\"background-color: rgb(255...</td>\n",
       "      <td>NaT</td>\n",
       "      <td>NaT</td>\n",
       "      <td>NaT</td>\n",
       "      <td>LocumSmart</td>\n",
       "      <td>JB-WY-HOSP-031623-1086</td>\n",
       "      <td>2025-08-15T14:01:31.995865</td>\n",
       "      <td>220.0</td>\n",
       "      <td>1760.0</td>\n",
       "      <td>https://www.prolocums.com/job-detail/JB-WY-HOS...</td>\n",
       "    </tr>\n",
       "    <tr>\n",
       "      <th>4</th>\n",
       "      <td>1087</td>\n",
       "      <td>Psychiatry Locum Opportunity in Kentucky</td>\n",
       "      <td>Psychiatry</td>\n",
       "      <td>Kentucky</td>\n",
       "      <td>KY</td>\n",
       "      <td>Harlan</td>\n",
       "      <td>&lt;p&gt;&lt;strong style=\"background-color: transparen...</td>\n",
       "      <td>NaT</td>\n",
       "      <td>NaT</td>\n",
       "      <td>NaT</td>\n",
       "      <td>LocumSmart</td>\n",
       "      <td>JB-KY-PSYC-031623-1087</td>\n",
       "      <td>2025-08-15T14:01:31.995865</td>\n",
       "      <td>200.0</td>\n",
       "      <td>1600.0</td>\n",
       "      <td>https://www.prolocums.com/job-detail/JB-KY-PSY...</td>\n",
       "    </tr>\n",
       "  </tbody>\n",
       "</table>\n",
       "</div>"
      ],
      "text/plain": [
       "   job_id                                          job_title  \\\n",
       "0    8278    Infectious Disease Locum Opportunity in Indiana   \n",
       "1    1103  Internal Medicine Locum Opportunity in California   \n",
       "2    1085           Hospitalist Locum Opportunity in Montana   \n",
       "3    1086           Hospitalist Locum Opportunity in Wyoming   \n",
       "4    1087           Psychiatry Locum Opportunity in Kentucky   \n",
       "\n",
       "            specialty       state state_id          city  \\\n",
       "0  Infectious Disease     Indiana       IN  Indianapolis   \n",
       "1   Internal Medicine  California       CA       Fortuna   \n",
       "2         Hospitalist     Montana       MT      Missoula   \n",
       "3         Hospitalist     Wyoming       WY      Riverton   \n",
       "4          Psychiatry    Kentucky       KY        Harlan   \n",
       "\n",
       "                                    description_html             posted_date  \\\n",
       "0  <h1><strong style=\"background-color: transpare... 2025-08-15 05:57:47.363   \n",
       "1  <p><span style=\"background-color: rgb(255, 255...                     NaT   \n",
       "2  <p><span style=\"background-color: rgb(255, 255...                     NaT   \n",
       "3  <ul><li><span style=\"background-color: rgb(255...                     NaT   \n",
       "4  <p><strong style=\"background-color: transparen...                     NaT   \n",
       "\n",
       "  start_date   end_date      source           job_id_string  \\\n",
       "0 2025-12-01 2026-06-30  LocumSmart  JB-IN-INFE-081525-8278   \n",
       "1        NaT        NaT  LocumSmart  JB-CA-INME-032123-1103   \n",
       "2        NaT        NaT  LocumSmart  JB-MT-HOSP-031623-1085   \n",
       "3        NaT        NaT  LocumSmart  JB-WY-HOSP-031623-1086   \n",
       "4        NaT        NaT  LocumSmart  JB-KY-PSYC-031623-1087   \n",
       "\n",
       "         scrape_timestamp_utc  rate_hourly  rate_daily  \\\n",
       "0  2025-08-15T14:01:31.995865          NaN         NaN   \n",
       "1  2025-08-15T14:01:31.995865        150.0      1200.0   \n",
       "2  2025-08-15T14:01:31.995865        200.0      1600.0   \n",
       "3  2025-08-15T14:01:31.995865        220.0      1760.0   \n",
       "4  2025-08-15T14:01:31.995865        200.0      1600.0   \n",
       "\n",
       "                                             job_url  \n",
       "0  https://www.prolocums.com/job-detail/JB-IN-INF...  \n",
       "1  https://www.prolocums.com/job-detail/JB-CA-INM...  \n",
       "2  https://www.prolocums.com/job-detail/JB-MT-HOS...  \n",
       "3  https://www.prolocums.com/job-detail/JB-WY-HOS...  \n",
       "4  https://www.prolocums.com/job-detail/JB-KY-PSY...  "
      ]
     },
     "metadata": {},
     "output_type": "display_data"
    },
    {
     "name": "stdout",
     "output_type": "stream",
     "text": [
      "\n",
      "--- Data Info ---\n",
      "<class 'pandas.core.frame.DataFrame'>\n",
      "RangeIndex: 2019 entries, 0 to 2018\n",
      "Data columns (total 16 columns):\n",
      " #   Column                Non-Null Count  Dtype         \n",
      "---  ------                --------------  -----         \n",
      " 0   job_id                2019 non-null   int64         \n",
      " 1   job_title             2019 non-null   object        \n",
      " 2   specialty             2019 non-null   object        \n",
      " 3   state                 2019 non-null   object        \n",
      " 4   state_id              2019 non-null   object        \n",
      " 5   city                  2019 non-null   object        \n",
      " 6   description_html      2019 non-null   object        \n",
      " 7   posted_date           12 non-null     datetime64[ns]\n",
      " 8   start_date            12 non-null     datetime64[ns]\n",
      " 9   end_date              2 non-null      datetime64[ns]\n",
      " 10  source                1802 non-null   object        \n",
      " 11  job_id_string         2019 non-null   object        \n",
      " 12  scrape_timestamp_utc  2019 non-null   object        \n",
      " 13  rate_hourly           1162 non-null   float64       \n",
      " 14  rate_daily            1162 non-null   float64       \n",
      " 15  job_url               2019 non-null   object        \n",
      "dtypes: datetime64[ns](3), float64(2), int64(1), object(10)\n",
      "memory usage: 252.5+ KB\n",
      "\n",
      "--- Descriptive Statistics (Pay Rate Data) ---\n"
     ]
    },
    {
     "data": {
      "text/html": [
       "<div>\n",
       "<style scoped>\n",
       "    .dataframe tbody tr th:only-of-type {\n",
       "        vertical-align: middle;\n",
       "    }\n",
       "\n",
       "    .dataframe tbody tr th {\n",
       "        vertical-align: top;\n",
       "    }\n",
       "\n",
       "    .dataframe thead th {\n",
       "        text-align: right;\n",
       "    }\n",
       "</style>\n",
       "<table border=\"1\" class=\"dataframe\">\n",
       "  <thead>\n",
       "    <tr style=\"text-align: right;\">\n",
       "      <th></th>\n",
       "      <th>rate_hourly</th>\n",
       "      <th>rate_daily</th>\n",
       "    </tr>\n",
       "  </thead>\n",
       "  <tbody>\n",
       "    <tr>\n",
       "      <th>count</th>\n",
       "      <td>1162.000000</td>\n",
       "      <td>1162.000000</td>\n",
       "    </tr>\n",
       "    <tr>\n",
       "      <th>mean</th>\n",
       "      <td>273.433950</td>\n",
       "      <td>2187.471601</td>\n",
       "    </tr>\n",
       "    <tr>\n",
       "      <th>std</th>\n",
       "      <td>99.187467</td>\n",
       "      <td>793.499734</td>\n",
       "    </tr>\n",
       "    <tr>\n",
       "      <th>min</th>\n",
       "      <td>1.300000</td>\n",
       "      <td>10.400000</td>\n",
       "    </tr>\n",
       "    <tr>\n",
       "      <th>25%</th>\n",
       "      <td>200.000000</td>\n",
       "      <td>1600.000000</td>\n",
       "    </tr>\n",
       "    <tr>\n",
       "      <th>50%</th>\n",
       "      <td>250.000000</td>\n",
       "      <td>2000.000000</td>\n",
       "    </tr>\n",
       "    <tr>\n",
       "      <th>75%</th>\n",
       "      <td>350.000000</td>\n",
       "      <td>2800.000000</td>\n",
       "    </tr>\n",
       "    <tr>\n",
       "      <th>max</th>\n",
       "      <td>550.000000</td>\n",
       "      <td>4400.000000</td>\n",
       "    </tr>\n",
       "  </tbody>\n",
       "</table>\n",
       "</div>"
      ],
      "text/plain": [
       "       rate_hourly   rate_daily\n",
       "count  1162.000000  1162.000000\n",
       "mean    273.433950  2187.471601\n",
       "std      99.187467   793.499734\n",
       "min       1.300000    10.400000\n",
       "25%     200.000000  1600.000000\n",
       "50%     250.000000  2000.000000\n",
       "75%     350.000000  2800.000000\n",
       "max     550.000000  4400.000000"
      ]
     },
     "metadata": {},
     "output_type": "display_data"
    }
   ],
   "source": [
    "# Data Overview \n",
    "# Show the first few rows of the DataFrame to get a feel for the data\n",
    "if not df.empty:\n",
    "    display(df.head())\n",
    "\n",
    "    # Display a concise summary of the DataFrame\n",
    "    print(\"\\n--- Data Info ---\")\n",
    "    df.info()\n",
    "\n",
    "    # Display descriptive statistics for meaningful numeric columns\n",
    "    print(\"\\n--- Descriptive Statistics (Pay Rate Data) ---\")\n",
    "    display(df[['rate_hourly', 'rate_daily']].describe())\n"
   ]
  },
  {
   "cell_type": "markdown",
   "id": "bf519327",
   "metadata": {},
   "source": [
    "# 3. Pay Rate Analysis by Specialty\n",
    "\n",
    "Now, I will analyze which medical specialties have the highest pay rates. I will filter for jobs that have pay rate data, group them by specialty, and visualize the average daily rate.\n"
   ]
  },
  {
   "cell_type": "code",
   "execution_count": null,
   "id": "2df44326",
   "metadata": {},
   "outputs": [
    {
     "name": "stdout",
     "output_type": "stream",
     "text": [
      "\n",
      "Found 65 unique specialties with pay data.\n"
     ]
    },
    {
     "data": {
      "application/vnd.plotly.v1+json": {
       "config": {
        "plotlyServerURL": "https://plot.ly"
       },
       "data": [
        {
         "domain": {
          "x": [
           0,
           1
          ],
          "y": [
           0,
           1
          ]
         },
         "hovertemplate": "<b>%{label}</b><br>Job Count: %{value}<br>Median Hourly Rate: $%{color:.2f}<extra></extra>",
         "labels": [
          "Hematology Oncology",
          "Surgery - ColoRectal",
          "Surgery - Thoracic",
          "Maternal Fetal Medicine",
          "Neurological Surgery",
          "Gastroenterology - Hepatology",
          "Gastroenterology",
          "Vascular Surgery",
          "Neonatology",
          "Cardiovascular Surgery",
          "Cardiothoracic Surgery",
          "Cardiology - Interventional",
          "Cardiology - Electrophysiology",
          "Surgery - Breast",
          "Pediatric Urology",
          "Pediatric Surgery",
          "Vascular Neurology",
          "Radiology - Interventional",
          "Radiology",
          "Pediatric Gastroenterology",
          "Cardiology - General",
          "Orthopedics - Hand",
          "Orthopedics - Trauma",
          "Dermatology",
          "Plastics Surgery",
          "Urology",
          "ENT / Otolaryngology",
          "Anesthesiology",
          "Pediatric Hematology",
          "Emergency Medicine",
          "Orthopedics",
          "Pulmonology - Critical care/Intensivist",
          "Psychiatry - Child",
          "Surgery - Trauma",
          "Infectious Disease",
          "Radiology - Mammography",
          "Radiation Oncology",
          "Pulmonology",
          "Surgery - Maxillofacial",
          "Pediatric Neurology",
          "Radiology - Neuroradiology",
          "CRNA",
          "Surgery - Hand",
          "Psychologist",
          "Endocrinology",
          "Neurology",
          "Obstetrics Gynecology",
          "Nephrology",
          "Hospitalist",
          "Surgery - Bariatric",
          "Surgery - General",
          "Psychiatry",
          "Physical Medicine and Rehab",
          "Pediatric Hospitalist",
          "Urgent Care",
          "Pathology",
          "Geriatrics",
          "Internal Medicine",
          "Family Practice",
          "Wound Care",
          "Pediatrics",
          "Physician Assistant",
          "Nurse Practitioner",
          "Adolescent Medicine",
          "Allergy/Immunology"
         ],
         "marker": {
          "coloraxis": "coloraxis",
          "colors": {
           "bdata": "AAAAAAAgfEAAAAAAAJB6QAAAAAAAAHlAAAAAAAAAeUAAAAAAAAB5QAAAAAAAAHlAAAAAAAAAeUAAAAAAAAB5QAAAAAAAAHlAAAAAAAAAeUAAAAAAAAB5QAAAAAAAAHlAAAAAAAAAeUAAAAAAAKh2QAAAAAAA4HVAAAAAAADgdUAAAAAAAOB1QAAAAAAA4HVAAAAAAADgdUAAAAAAAOB1QAAAAAAAUHRAAAAAAADAckAAAAAAAMByQAAAAAAAwHJAAAAAAADAckAAAAAAAMByQAAAAAAAwHJAAAAAAADAckAAAAAAAMByQAAAAAAAwHJAAAAAAAAwcUAAAAAAADBxQAAAAAAAMHFAAAAAAABAb0AAAAAAAEBvQAAAAAAAQG9AAAAAAABAb0AAAAAAAEBvQAAAAAAAQG9AAAAAAABAb0AAAAAAAEBvQAAAAAAAIGxAAAAAAAAgbEAAAAAAACBsQAAAAAAAIGxAAAAAAADQa0AAAAAAAIBrQAAAAAAAgGtAAAAAAACAa0AAAAAAAJBqQAAAAAAAAGlAAAAAAAAAaUAAAAAAAOBlQAAAAAAA4GVAAAAAAACgZEAAAAAAAMBiQAAAAAAAwGJAAAAAAADAYkAAAAAAACBiQAAAAAAAAF5AAAAAAAAAXkAAAAAAAABZQAAAAAAAAFlAAAAAAAAAKkDNzMzMzMz0Pw==",
           "dtype": "f8"
          }
         },
         "name": "",
         "parents": [
          "All Specialties",
          "All Specialties",
          "All Specialties",
          "All Specialties",
          "All Specialties",
          "All Specialties",
          "All Specialties",
          "All Specialties",
          "All Specialties",
          "All Specialties",
          "All Specialties",
          "All Specialties",
          "All Specialties",
          "All Specialties",
          "All Specialties",
          "All Specialties",
          "All Specialties",
          "All Specialties",
          "All Specialties",
          "All Specialties",
          "All Specialties",
          "All Specialties",
          "All Specialties",
          "All Specialties",
          "All Specialties",
          "All Specialties",
          "All Specialties",
          "All Specialties",
          "All Specialties",
          "All Specialties",
          "All Specialties",
          "All Specialties",
          "All Specialties",
          "All Specialties",
          "All Specialties",
          "All Specialties",
          "All Specialties",
          "All Specialties",
          "All Specialties",
          "All Specialties",
          "All Specialties",
          "All Specialties",
          "All Specialties",
          "All Specialties",
          "All Specialties",
          "All Specialties",
          "All Specialties",
          "All Specialties",
          "All Specialties",
          "All Specialties",
          "All Specialties",
          "All Specialties",
          "All Specialties",
          "All Specialties",
          "All Specialties",
          "All Specialties",
          "All Specialties",
          "All Specialties",
          "All Specialties",
          "All Specialties",
          "All Specialties",
          "All Specialties",
          "All Specialties",
          "All Specialties",
          "All Specialties"
         ],
         "type": "treemap",
         "values": {
          "bdata": "XgIBAR0BPhMDCBcMBwIBBgMREQEeAgcEBjIJYwIiEBsFDQEBHQQDAQEDAQECJA8GZgJUKgoqCQEBHCoLQwEBAQE=",
          "dtype": "i1"
         }
        }
       ],
       "layout": {
        "coloraxis": {
         "colorbar": {
          "title": {
           "text": "median_hourly_rate"
          }
         },
         "colorscale": [
          [
           0,
           "rgb(255,255,217)"
          ],
          [
           0.125,
           "rgb(237,248,177)"
          ],
          [
           0.25,
           "rgb(199,233,180)"
          ],
          [
           0.375,
           "rgb(127,205,187)"
          ],
          [
           0.5,
           "rgb(65,182,196)"
          ],
          [
           0.625,
           "rgb(29,145,192)"
          ],
          [
           0.75,
           "rgb(34,94,168)"
          ],
          [
           0.875,
           "rgb(37,52,148)"
          ],
          [
           1,
           "rgb(8,29,88)"
          ]
         ]
        },
        "legend": {
         "tracegroupgap": 0
        },
        "margin": {
         "b": 25,
         "l": 25,
         "r": 25,
         "t": 50
        },
        "template": {
         "data": {
          "bar": [
           {
            "error_x": {
             "color": "#2a3f5f"
            },
            "error_y": {
             "color": "#2a3f5f"
            },
            "marker": {
             "line": {
              "color": "white",
              "width": 0.5
             },
             "pattern": {
              "fillmode": "overlay",
              "size": 10,
              "solidity": 0.2
             }
            },
            "type": "bar"
           }
          ],
          "barpolar": [
           {
            "marker": {
             "line": {
              "color": "white",
              "width": 0.5
             },
             "pattern": {
              "fillmode": "overlay",
              "size": 10,
              "solidity": 0.2
             }
            },
            "type": "barpolar"
           }
          ],
          "carpet": [
           {
            "aaxis": {
             "endlinecolor": "#2a3f5f",
             "gridcolor": "#C8D4E3",
             "linecolor": "#C8D4E3",
             "minorgridcolor": "#C8D4E3",
             "startlinecolor": "#2a3f5f"
            },
            "baxis": {
             "endlinecolor": "#2a3f5f",
             "gridcolor": "#C8D4E3",
             "linecolor": "#C8D4E3",
             "minorgridcolor": "#C8D4E3",
             "startlinecolor": "#2a3f5f"
            },
            "type": "carpet"
           }
          ],
          "choropleth": [
           {
            "colorbar": {
             "outlinewidth": 0,
             "ticks": ""
            },
            "type": "choropleth"
           }
          ],
          "contour": [
           {
            "colorbar": {
             "outlinewidth": 0,
             "ticks": ""
            },
            "colorscale": [
             [
              0,
              "#0d0887"
             ],
             [
              0.1111111111111111,
              "#46039f"
             ],
             [
              0.2222222222222222,
              "#7201a8"
             ],
             [
              0.3333333333333333,
              "#9c179e"
             ],
             [
              0.4444444444444444,
              "#bd3786"
             ],
             [
              0.5555555555555556,
              "#d8576b"
             ],
             [
              0.6666666666666666,
              "#ed7953"
             ],
             [
              0.7777777777777778,
              "#fb9f3a"
             ],
             [
              0.8888888888888888,
              "#fdca26"
             ],
             [
              1,
              "#f0f921"
             ]
            ],
            "type": "contour"
           }
          ],
          "contourcarpet": [
           {
            "colorbar": {
             "outlinewidth": 0,
             "ticks": ""
            },
            "type": "contourcarpet"
           }
          ],
          "heatmap": [
           {
            "colorbar": {
             "outlinewidth": 0,
             "ticks": ""
            },
            "colorscale": [
             [
              0,
              "#0d0887"
             ],
             [
              0.1111111111111111,
              "#46039f"
             ],
             [
              0.2222222222222222,
              "#7201a8"
             ],
             [
              0.3333333333333333,
              "#9c179e"
             ],
             [
              0.4444444444444444,
              "#bd3786"
             ],
             [
              0.5555555555555556,
              "#d8576b"
             ],
             [
              0.6666666666666666,
              "#ed7953"
             ],
             [
              0.7777777777777778,
              "#fb9f3a"
             ],
             [
              0.8888888888888888,
              "#fdca26"
             ],
             [
              1,
              "#f0f921"
             ]
            ],
            "type": "heatmap"
           }
          ],
          "histogram": [
           {
            "marker": {
             "pattern": {
              "fillmode": "overlay",
              "size": 10,
              "solidity": 0.2
             }
            },
            "type": "histogram"
           }
          ],
          "histogram2d": [
           {
            "colorbar": {
             "outlinewidth": 0,
             "ticks": ""
            },
            "colorscale": [
             [
              0,
              "#0d0887"
             ],
             [
              0.1111111111111111,
              "#46039f"
             ],
             [
              0.2222222222222222,
              "#7201a8"
             ],
             [
              0.3333333333333333,
              "#9c179e"
             ],
             [
              0.4444444444444444,
              "#bd3786"
             ],
             [
              0.5555555555555556,
              "#d8576b"
             ],
             [
              0.6666666666666666,
              "#ed7953"
             ],
             [
              0.7777777777777778,
              "#fb9f3a"
             ],
             [
              0.8888888888888888,
              "#fdca26"
             ],
             [
              1,
              "#f0f921"
             ]
            ],
            "type": "histogram2d"
           }
          ],
          "histogram2dcontour": [
           {
            "colorbar": {
             "outlinewidth": 0,
             "ticks": ""
            },
            "colorscale": [
             [
              0,
              "#0d0887"
             ],
             [
              0.1111111111111111,
              "#46039f"
             ],
             [
              0.2222222222222222,
              "#7201a8"
             ],
             [
              0.3333333333333333,
              "#9c179e"
             ],
             [
              0.4444444444444444,
              "#bd3786"
             ],
             [
              0.5555555555555556,
              "#d8576b"
             ],
             [
              0.6666666666666666,
              "#ed7953"
             ],
             [
              0.7777777777777778,
              "#fb9f3a"
             ],
             [
              0.8888888888888888,
              "#fdca26"
             ],
             [
              1,
              "#f0f921"
             ]
            ],
            "type": "histogram2dcontour"
           }
          ],
          "mesh3d": [
           {
            "colorbar": {
             "outlinewidth": 0,
             "ticks": ""
            },
            "type": "mesh3d"
           }
          ],
          "parcoords": [
           {
            "line": {
             "colorbar": {
              "outlinewidth": 0,
              "ticks": ""
             }
            },
            "type": "parcoords"
           }
          ],
          "pie": [
           {
            "automargin": true,
            "type": "pie"
           }
          ],
          "scatter": [
           {
            "fillpattern": {
             "fillmode": "overlay",
             "size": 10,
             "solidity": 0.2
            },
            "type": "scatter"
           }
          ],
          "scatter3d": [
           {
            "line": {
             "colorbar": {
              "outlinewidth": 0,
              "ticks": ""
             }
            },
            "marker": {
             "colorbar": {
              "outlinewidth": 0,
              "ticks": ""
             }
            },
            "type": "scatter3d"
           }
          ],
          "scattercarpet": [
           {
            "marker": {
             "colorbar": {
              "outlinewidth": 0,
              "ticks": ""
             }
            },
            "type": "scattercarpet"
           }
          ],
          "scattergeo": [
           {
            "marker": {
             "colorbar": {
              "outlinewidth": 0,
              "ticks": ""
             }
            },
            "type": "scattergeo"
           }
          ],
          "scattergl": [
           {
            "marker": {
             "colorbar": {
              "outlinewidth": 0,
              "ticks": ""
             }
            },
            "type": "scattergl"
           }
          ],
          "scattermap": [
           {
            "marker": {
             "colorbar": {
              "outlinewidth": 0,
              "ticks": ""
             }
            },
            "type": "scattermap"
           }
          ],
          "scattermapbox": [
           {
            "marker": {
             "colorbar": {
              "outlinewidth": 0,
              "ticks": ""
             }
            },
            "type": "scattermapbox"
           }
          ],
          "scatterpolar": [
           {
            "marker": {
             "colorbar": {
              "outlinewidth": 0,
              "ticks": ""
             }
            },
            "type": "scatterpolar"
           }
          ],
          "scatterpolargl": [
           {
            "marker": {
             "colorbar": {
              "outlinewidth": 0,
              "ticks": ""
             }
            },
            "type": "scatterpolargl"
           }
          ],
          "scatterternary": [
           {
            "marker": {
             "colorbar": {
              "outlinewidth": 0,
              "ticks": ""
             }
            },
            "type": "scatterternary"
           }
          ],
          "surface": [
           {
            "colorbar": {
             "outlinewidth": 0,
             "ticks": ""
            },
            "colorscale": [
             [
              0,
              "#0d0887"
             ],
             [
              0.1111111111111111,
              "#46039f"
             ],
             [
              0.2222222222222222,
              "#7201a8"
             ],
             [
              0.3333333333333333,
              "#9c179e"
             ],
             [
              0.4444444444444444,
              "#bd3786"
             ],
             [
              0.5555555555555556,
              "#d8576b"
             ],
             [
              0.6666666666666666,
              "#ed7953"
             ],
             [
              0.7777777777777778,
              "#fb9f3a"
             ],
             [
              0.8888888888888888,
              "#fdca26"
             ],
             [
              1,
              "#f0f921"
             ]
            ],
            "type": "surface"
           }
          ],
          "table": [
           {
            "cells": {
             "fill": {
              "color": "#EBF0F8"
             },
             "line": {
              "color": "white"
             }
            },
            "header": {
             "fill": {
              "color": "#C8D4E3"
             },
             "line": {
              "color": "white"
             }
            },
            "type": "table"
           }
          ]
         },
         "layout": {
          "annotationdefaults": {
           "arrowcolor": "#2a3f5f",
           "arrowhead": 0,
           "arrowwidth": 1
          },
          "autotypenumbers": "strict",
          "coloraxis": {
           "colorbar": {
            "outlinewidth": 0,
            "ticks": ""
           }
          },
          "colorscale": {
           "diverging": [
            [
             0,
             "#8e0152"
            ],
            [
             0.1,
             "#c51b7d"
            ],
            [
             0.2,
             "#de77ae"
            ],
            [
             0.3,
             "#f1b6da"
            ],
            [
             0.4,
             "#fde0ef"
            ],
            [
             0.5,
             "#f7f7f7"
            ],
            [
             0.6,
             "#e6f5d0"
            ],
            [
             0.7,
             "#b8e186"
            ],
            [
             0.8,
             "#7fbc41"
            ],
            [
             0.9,
             "#4d9221"
            ],
            [
             1,
             "#276419"
            ]
           ],
           "sequential": [
            [
             0,
             "#0d0887"
            ],
            [
             0.1111111111111111,
             "#46039f"
            ],
            [
             0.2222222222222222,
             "#7201a8"
            ],
            [
             0.3333333333333333,
             "#9c179e"
            ],
            [
             0.4444444444444444,
             "#bd3786"
            ],
            [
             0.5555555555555556,
             "#d8576b"
            ],
            [
             0.6666666666666666,
             "#ed7953"
            ],
            [
             0.7777777777777778,
             "#fb9f3a"
            ],
            [
             0.8888888888888888,
             "#fdca26"
            ],
            [
             1,
             "#f0f921"
            ]
           ],
           "sequentialminus": [
            [
             0,
             "#0d0887"
            ],
            [
             0.1111111111111111,
             "#46039f"
            ],
            [
             0.2222222222222222,
             "#7201a8"
            ],
            [
             0.3333333333333333,
             "#9c179e"
            ],
            [
             0.4444444444444444,
             "#bd3786"
            ],
            [
             0.5555555555555556,
             "#d8576b"
            ],
            [
             0.6666666666666666,
             "#ed7953"
            ],
            [
             0.7777777777777778,
             "#fb9f3a"
            ],
            [
             0.8888888888888888,
             "#fdca26"
            ],
            [
             1,
             "#f0f921"
            ]
           ]
          },
          "colorway": [
           "#636efa",
           "#EF553B",
           "#00cc96",
           "#ab63fa",
           "#FFA15A",
           "#19d3f3",
           "#FF6692",
           "#B6E880",
           "#FF97FF",
           "#FECB52"
          ],
          "font": {
           "color": "#2a3f5f"
          },
          "geo": {
           "bgcolor": "white",
           "lakecolor": "white",
           "landcolor": "white",
           "showlakes": true,
           "showland": true,
           "subunitcolor": "#C8D4E3"
          },
          "hoverlabel": {
           "align": "left"
          },
          "hovermode": "closest",
          "mapbox": {
           "style": "light"
          },
          "paper_bgcolor": "white",
          "plot_bgcolor": "white",
          "polar": {
           "angularaxis": {
            "gridcolor": "#EBF0F8",
            "linecolor": "#EBF0F8",
            "ticks": ""
           },
           "bgcolor": "white",
           "radialaxis": {
            "gridcolor": "#EBF0F8",
            "linecolor": "#EBF0F8",
            "ticks": ""
           }
          },
          "scene": {
           "xaxis": {
            "backgroundcolor": "white",
            "gridcolor": "#DFE8F3",
            "gridwidth": 2,
            "linecolor": "#EBF0F8",
            "showbackground": true,
            "ticks": "",
            "zerolinecolor": "#EBF0F8"
           },
           "yaxis": {
            "backgroundcolor": "white",
            "gridcolor": "#DFE8F3",
            "gridwidth": 2,
            "linecolor": "#EBF0F8",
            "showbackground": true,
            "ticks": "",
            "zerolinecolor": "#EBF0F8"
           },
           "zaxis": {
            "backgroundcolor": "white",
            "gridcolor": "#DFE8F3",
            "gridwidth": 2,
            "linecolor": "#EBF0F8",
            "showbackground": true,
            "ticks": "",
            "zerolinecolor": "#EBF0F8"
           }
          },
          "shapedefaults": {
           "line": {
            "color": "#2a3f5f"
           }
          },
          "ternary": {
           "aaxis": {
            "gridcolor": "#DFE8F3",
            "linecolor": "#A2B1C6",
            "ticks": ""
           },
           "baxis": {
            "gridcolor": "#DFE8F3",
            "linecolor": "#A2B1C6",
            "ticks": ""
           },
           "bgcolor": "white",
           "caxis": {
            "gridcolor": "#DFE8F3",
            "linecolor": "#A2B1C6",
            "ticks": ""
           }
          },
          "title": {
           "x": 0.05
          },
          "xaxis": {
           "automargin": true,
           "gridcolor": "#EBF0F8",
           "linecolor": "#EBF0F8",
           "ticks": "",
           "title": {
            "standoff": 15
           },
           "zerolinecolor": "#EBF0F8",
           "zerolinewidth": 2
          },
          "yaxis": {
           "automargin": true,
           "gridcolor": "#EBF0F8",
           "linecolor": "#EBF0F8",
           "ticks": "",
           "title": {
            "standoff": 15
           },
           "zerolinecolor": "#EBF0F8",
           "zerolinewidth": 2
          }
         }
        },
        "title": {
         "text": "Treemap of Specialties by Job Count and Median Pay Rate"
        }
       }
      }
     },
     "metadata": {},
     "output_type": "display_data"
    }
   ],
   "source": [
    "# Filter for jobs where an hourly rate is available\n",
    "df_with_rates = df.dropna(subset=['rate_hourly'])\n",
    "\n",
    "if not df_with_rates.empty:\n",
    "    # Group by specialty and calculate the median hourly rate and job count\n",
    "    specialty_pay = df_with_rates.groupby('specialty').agg(\n",
    "        median_hourly_rate=('rate_hourly', 'median'),\n",
    "        job_count=('job_id', 'count')\n",
    "    ).sort_values(by='median_hourly_rate', ascending=False).reset_index()\n",
    "\n",
    "    print(f\"\\nFound {len(specialty_pay)} unique specialties with pay data.\")\n",
    "    \n",
    "    #Visualization: Treemap of All Specialties \n",
    "    \n",
    "    # Prepare the data by defining the parent-child relationship\n",
    "    treemap_data = specialty_pay.copy()\n",
    "    treemap_data['parent'] = 'All Specialties' # Assign a common parent\n",
    "    \n",
    "    # Create the figure using the 'names' and 'parents' arguments\n",
    "    fig = px.treemap(\n",
    "        treemap_data,\n",
    "        names='specialty',\n",
    "        parents='parent',\n",
    "        values='job_count',\n",
    "        color='median_hourly_rate',\n",
    "        color_continuous_scale='YlGnBu',\n",
    "        title='Treemap of Specialties by Job Count and Median Pay Rate'\n",
    "    )\n",
    "\n",
    "    fig.update_layout(margin = dict(t=50, l=25, r=25, b=25))\n",
    "    fig.update_traces(\n",
    "        # Customize the hover text for clarity\n",
    "        hovertemplate='<b>%{label}</b><br>Job Count: %{value}<br>Median Hourly Rate: $%{color:.2f}<extra></extra>'\n",
    "    )\n",
    "    fig.show()\n",
    "\n",
    "else:\n",
    "    print(\"No jobs with pay rate data found to analyze.\")\n",
    "\n"
   ]
  },
  {
   "cell_type": "markdown",
   "id": "df752575",
   "metadata": {},
   "source": [
    "# 4. Pay Rate Analysis by Location\n",
    "\n",
    "Next, I'll investigate the geographical trends in pay rates. We'll analyze which states offer the highest average daily rates for locum tenens positions. A bar chart will show the direct comparison, and a choropleth map will provide an intuitive geographical visualization.\n"
   ]
  },
  {
   "cell_type": "code",
   "execution_count": null,
   "id": "0c668e6f",
   "metadata": {},
   "outputs": [
    {
     "name": "stdout",
     "output_type": "stream",
     "text": [
      "--- Median Hourly Rate by State ---\n"
     ]
    },
    {
     "data": {
      "text/html": [
       "<div>\n",
       "<style scoped>\n",
       "    .dataframe tbody tr th:only-of-type {\n",
       "        vertical-align: middle;\n",
       "    }\n",
       "\n",
       "    .dataframe tbody tr th {\n",
       "        vertical-align: top;\n",
       "    }\n",
       "\n",
       "    .dataframe thead th {\n",
       "        text-align: right;\n",
       "    }\n",
       "</style>\n",
       "<table border=\"1\" class=\"dataframe\">\n",
       "  <thead>\n",
       "    <tr style=\"text-align: right;\">\n",
       "      <th></th>\n",
       "      <th>state</th>\n",
       "      <th>state_id</th>\n",
       "      <th>median_hourly_rate</th>\n",
       "      <th>job_count</th>\n",
       "      <th>region</th>\n",
       "    </tr>\n",
       "  </thead>\n",
       "  <tbody>\n",
       "    <tr>\n",
       "      <th>0</th>\n",
       "      <td>Florida</td>\n",
       "      <td>FL</td>\n",
       "      <td>400.0</td>\n",
       "      <td>10</td>\n",
       "      <td>South</td>\n",
       "    </tr>\n",
       "    <tr>\n",
       "      <th>1</th>\n",
       "      <td>Alabama</td>\n",
       "      <td>AL</td>\n",
       "      <td>350.0</td>\n",
       "      <td>12</td>\n",
       "      <td>South</td>\n",
       "    </tr>\n",
       "    <tr>\n",
       "      <th>2</th>\n",
       "      <td>Maryland</td>\n",
       "      <td>MD</td>\n",
       "      <td>325.0</td>\n",
       "      <td>24</td>\n",
       "      <td>Mid-Atlantic</td>\n",
       "    </tr>\n",
       "    <tr>\n",
       "      <th>3</th>\n",
       "      <td>Minnesota</td>\n",
       "      <td>MN</td>\n",
       "      <td>312.5</td>\n",
       "      <td>6</td>\n",
       "      <td>Midwest</td>\n",
       "    </tr>\n",
       "    <tr>\n",
       "      <th>4</th>\n",
       "      <td>Arkansas</td>\n",
       "      <td>AR</td>\n",
       "      <td>300.0</td>\n",
       "      <td>17</td>\n",
       "      <td>South</td>\n",
       "    </tr>\n",
       "    <tr>\n",
       "      <th>5</th>\n",
       "      <td>Michigan</td>\n",
       "      <td>MI</td>\n",
       "      <td>300.0</td>\n",
       "      <td>54</td>\n",
       "      <td>Midwest</td>\n",
       "    </tr>\n",
       "    <tr>\n",
       "      <th>6</th>\n",
       "      <td>North Dakota</td>\n",
       "      <td>ND</td>\n",
       "      <td>300.0</td>\n",
       "      <td>8</td>\n",
       "      <td>Midwest</td>\n",
       "    </tr>\n",
       "    <tr>\n",
       "      <th>7</th>\n",
       "      <td>Nebraska</td>\n",
       "      <td>NE</td>\n",
       "      <td>300.0</td>\n",
       "      <td>3</td>\n",
       "      <td>Midwest</td>\n",
       "    </tr>\n",
       "    <tr>\n",
       "      <th>8</th>\n",
       "      <td>Missouri</td>\n",
       "      <td>MO</td>\n",
       "      <td>300.0</td>\n",
       "      <td>50</td>\n",
       "      <td>Midwest</td>\n",
       "    </tr>\n",
       "    <tr>\n",
       "      <th>9</th>\n",
       "      <td>Ohio</td>\n",
       "      <td>OH</td>\n",
       "      <td>300.0</td>\n",
       "      <td>49</td>\n",
       "      <td>Midwest</td>\n",
       "    </tr>\n",
       "    <tr>\n",
       "      <th>10</th>\n",
       "      <td>Arizona</td>\n",
       "      <td>AZ</td>\n",
       "      <td>300.0</td>\n",
       "      <td>34</td>\n",
       "      <td>Southwest</td>\n",
       "    </tr>\n",
       "    <tr>\n",
       "      <th>11</th>\n",
       "      <td>Colorado</td>\n",
       "      <td>CO</td>\n",
       "      <td>300.0</td>\n",
       "      <td>14</td>\n",
       "      <td>West</td>\n",
       "    </tr>\n",
       "    <tr>\n",
       "      <th>12</th>\n",
       "      <td>Idaho</td>\n",
       "      <td>ID</td>\n",
       "      <td>287.5</td>\n",
       "      <td>18</td>\n",
       "      <td>West</td>\n",
       "    </tr>\n",
       "    <tr>\n",
       "      <th>13</th>\n",
       "      <td>Wisconsin</td>\n",
       "      <td>WI</td>\n",
       "      <td>275.0</td>\n",
       "      <td>49</td>\n",
       "      <td>Midwest</td>\n",
       "    </tr>\n",
       "    <tr>\n",
       "      <th>14</th>\n",
       "      <td>Indiana</td>\n",
       "      <td>IN</td>\n",
       "      <td>262.5</td>\n",
       "      <td>20</td>\n",
       "      <td>Midwest</td>\n",
       "    </tr>\n",
       "    <tr>\n",
       "      <th>15</th>\n",
       "      <td>Pennsylvania</td>\n",
       "      <td>PA</td>\n",
       "      <td>250.0</td>\n",
       "      <td>173</td>\n",
       "      <td>Mid-Atlantic</td>\n",
       "    </tr>\n",
       "    <tr>\n",
       "      <th>16</th>\n",
       "      <td>New York</td>\n",
       "      <td>NY</td>\n",
       "      <td>250.0</td>\n",
       "      <td>13</td>\n",
       "      <td>Mid-Atlantic</td>\n",
       "    </tr>\n",
       "    <tr>\n",
       "      <th>17</th>\n",
       "      <td>New Hampshire</td>\n",
       "      <td>NH</td>\n",
       "      <td>250.0</td>\n",
       "      <td>1</td>\n",
       "      <td>New England</td>\n",
       "    </tr>\n",
       "    <tr>\n",
       "      <th>18</th>\n",
       "      <td>Texas</td>\n",
       "      <td>TX</td>\n",
       "      <td>250.0</td>\n",
       "      <td>57</td>\n",
       "      <td>Southwest</td>\n",
       "    </tr>\n",
       "    <tr>\n",
       "      <th>19</th>\n",
       "      <td>West Virginia</td>\n",
       "      <td>WV</td>\n",
       "      <td>250.0</td>\n",
       "      <td>15</td>\n",
       "      <td>South</td>\n",
       "    </tr>\n",
       "    <tr>\n",
       "      <th>20</th>\n",
       "      <td>Alaska</td>\n",
       "      <td>AK</td>\n",
       "      <td>250.0</td>\n",
       "      <td>3</td>\n",
       "      <td>West</td>\n",
       "    </tr>\n",
       "    <tr>\n",
       "      <th>21</th>\n",
       "      <td>Illinois</td>\n",
       "      <td>IL</td>\n",
       "      <td>250.0</td>\n",
       "      <td>32</td>\n",
       "      <td>Midwest</td>\n",
       "    </tr>\n",
       "    <tr>\n",
       "      <th>22</th>\n",
       "      <td>Washington</td>\n",
       "      <td>WA</td>\n",
       "      <td>250.0</td>\n",
       "      <td>69</td>\n",
       "      <td>West</td>\n",
       "    </tr>\n",
       "    <tr>\n",
       "      <th>23</th>\n",
       "      <td>Oklahoma</td>\n",
       "      <td>OK</td>\n",
       "      <td>250.0</td>\n",
       "      <td>9</td>\n",
       "      <td>Southwest</td>\n",
       "    </tr>\n",
       "    <tr>\n",
       "      <th>24</th>\n",
       "      <td>Maine</td>\n",
       "      <td>ME</td>\n",
       "      <td>250.0</td>\n",
       "      <td>3</td>\n",
       "      <td>New England</td>\n",
       "    </tr>\n",
       "    <tr>\n",
       "      <th>25</th>\n",
       "      <td>Kentucky</td>\n",
       "      <td>KY</td>\n",
       "      <td>250.0</td>\n",
       "      <td>30</td>\n",
       "      <td>South</td>\n",
       "    </tr>\n",
       "    <tr>\n",
       "      <th>26</th>\n",
       "      <td>Virginia</td>\n",
       "      <td>VA</td>\n",
       "      <td>250.0</td>\n",
       "      <td>26</td>\n",
       "      <td>South</td>\n",
       "    </tr>\n",
       "    <tr>\n",
       "      <th>27</th>\n",
       "      <td>Iowa</td>\n",
       "      <td>IA</td>\n",
       "      <td>250.0</td>\n",
       "      <td>18</td>\n",
       "      <td>Midwest</td>\n",
       "    </tr>\n",
       "    <tr>\n",
       "      <th>28</th>\n",
       "      <td>Massachusetts</td>\n",
       "      <td>MA</td>\n",
       "      <td>250.0</td>\n",
       "      <td>20</td>\n",
       "      <td>New England</td>\n",
       "    </tr>\n",
       "    <tr>\n",
       "      <th>29</th>\n",
       "      <td>South Carolina</td>\n",
       "      <td>SC</td>\n",
       "      <td>237.5</td>\n",
       "      <td>16</td>\n",
       "      <td>South</td>\n",
       "    </tr>\n",
       "    <tr>\n",
       "      <th>30</th>\n",
       "      <td>New Mexico</td>\n",
       "      <td>NM</td>\n",
       "      <td>237.5</td>\n",
       "      <td>30</td>\n",
       "      <td>Southwest</td>\n",
       "    </tr>\n",
       "    <tr>\n",
       "      <th>31</th>\n",
       "      <td>Utah</td>\n",
       "      <td>UT</td>\n",
       "      <td>220.0</td>\n",
       "      <td>7</td>\n",
       "      <td>West</td>\n",
       "    </tr>\n",
       "    <tr>\n",
       "      <th>32</th>\n",
       "      <td>Wyoming</td>\n",
       "      <td>WY</td>\n",
       "      <td>220.0</td>\n",
       "      <td>1</td>\n",
       "      <td>West</td>\n",
       "    </tr>\n",
       "    <tr>\n",
       "      <th>33</th>\n",
       "      <td>Kansas</td>\n",
       "      <td>KS</td>\n",
       "      <td>220.0</td>\n",
       "      <td>3</td>\n",
       "      <td>Midwest</td>\n",
       "    </tr>\n",
       "    <tr>\n",
       "      <th>34</th>\n",
       "      <td>California</td>\n",
       "      <td>CA</td>\n",
       "      <td>220.0</td>\n",
       "      <td>105</td>\n",
       "      <td>West</td>\n",
       "    </tr>\n",
       "    <tr>\n",
       "      <th>35</th>\n",
       "      <td>Vermont</td>\n",
       "      <td>VT</td>\n",
       "      <td>210.0</td>\n",
       "      <td>7</td>\n",
       "      <td>New England</td>\n",
       "    </tr>\n",
       "    <tr>\n",
       "      <th>36</th>\n",
       "      <td>Nevada</td>\n",
       "      <td>NV</td>\n",
       "      <td>205.0</td>\n",
       "      <td>10</td>\n",
       "      <td>West</td>\n",
       "    </tr>\n",
       "    <tr>\n",
       "      <th>37</th>\n",
       "      <td>Oregon</td>\n",
       "      <td>OR</td>\n",
       "      <td>200.0</td>\n",
       "      <td>34</td>\n",
       "      <td>West</td>\n",
       "    </tr>\n",
       "    <tr>\n",
       "      <th>38</th>\n",
       "      <td>North Carolina</td>\n",
       "      <td>NC</td>\n",
       "      <td>200.0</td>\n",
       "      <td>43</td>\n",
       "      <td>South</td>\n",
       "    </tr>\n",
       "    <tr>\n",
       "      <th>39</th>\n",
       "      <td>Tennessee</td>\n",
       "      <td>TN</td>\n",
       "      <td>200.0</td>\n",
       "      <td>21</td>\n",
       "      <td>South</td>\n",
       "    </tr>\n",
       "    <tr>\n",
       "      <th>40</th>\n",
       "      <td>Mississippi</td>\n",
       "      <td>MS</td>\n",
       "      <td>200.0</td>\n",
       "      <td>2</td>\n",
       "      <td>South</td>\n",
       "    </tr>\n",
       "    <tr>\n",
       "      <th>41</th>\n",
       "      <td>Montana</td>\n",
       "      <td>MT</td>\n",
       "      <td>200.0</td>\n",
       "      <td>11</td>\n",
       "      <td>West</td>\n",
       "    </tr>\n",
       "    <tr>\n",
       "      <th>42</th>\n",
       "      <td>Georgia</td>\n",
       "      <td>GA</td>\n",
       "      <td>155.0</td>\n",
       "      <td>31</td>\n",
       "      <td>South</td>\n",
       "    </tr>\n",
       "    <tr>\n",
       "      <th>43</th>\n",
       "      <td>Connecticut</td>\n",
       "      <td>CT</td>\n",
       "      <td>144.0</td>\n",
       "      <td>2</td>\n",
       "      <td>New England</td>\n",
       "    </tr>\n",
       "    <tr>\n",
       "      <th>44</th>\n",
       "      <td>New Jersey</td>\n",
       "      <td>NJ</td>\n",
       "      <td>120.0</td>\n",
       "      <td>2</td>\n",
       "      <td>Mid-Atlantic</td>\n",
       "    </tr>\n",
       "  </tbody>\n",
       "</table>\n",
       "</div>"
      ],
      "text/plain": [
       "             state state_id  median_hourly_rate  job_count        region\n",
       "0          Florida       FL               400.0         10         South\n",
       "1          Alabama       AL               350.0         12         South\n",
       "2         Maryland       MD               325.0         24  Mid-Atlantic\n",
       "3        Minnesota       MN               312.5          6       Midwest\n",
       "4         Arkansas       AR               300.0         17         South\n",
       "5         Michigan       MI               300.0         54       Midwest\n",
       "6     North Dakota       ND               300.0          8       Midwest\n",
       "7         Nebraska       NE               300.0          3       Midwest\n",
       "8         Missouri       MO               300.0         50       Midwest\n",
       "9             Ohio       OH               300.0         49       Midwest\n",
       "10         Arizona       AZ               300.0         34     Southwest\n",
       "11        Colorado       CO               300.0         14          West\n",
       "12           Idaho       ID               287.5         18          West\n",
       "13       Wisconsin       WI               275.0         49       Midwest\n",
       "14         Indiana       IN               262.5         20       Midwest\n",
       "15    Pennsylvania       PA               250.0        173  Mid-Atlantic\n",
       "16        New York       NY               250.0         13  Mid-Atlantic\n",
       "17   New Hampshire       NH               250.0          1   New England\n",
       "18           Texas       TX               250.0         57     Southwest\n",
       "19   West Virginia       WV               250.0         15         South\n",
       "20          Alaska       AK               250.0          3          West\n",
       "21        Illinois       IL               250.0         32       Midwest\n",
       "22      Washington       WA               250.0         69          West\n",
       "23        Oklahoma       OK               250.0          9     Southwest\n",
       "24           Maine       ME               250.0          3   New England\n",
       "25        Kentucky       KY               250.0         30         South\n",
       "26        Virginia       VA               250.0         26         South\n",
       "27            Iowa       IA               250.0         18       Midwest\n",
       "28   Massachusetts       MA               250.0         20   New England\n",
       "29  South Carolina       SC               237.5         16         South\n",
       "30      New Mexico       NM               237.5         30     Southwest\n",
       "31            Utah       UT               220.0          7          West\n",
       "32         Wyoming       WY               220.0          1          West\n",
       "33          Kansas       KS               220.0          3       Midwest\n",
       "34      California       CA               220.0        105          West\n",
       "35         Vermont       VT               210.0          7   New England\n",
       "36          Nevada       NV               205.0         10          West\n",
       "37          Oregon       OR               200.0         34          West\n",
       "38  North Carolina       NC               200.0         43         South\n",
       "39       Tennessee       TN               200.0         21         South\n",
       "40     Mississippi       MS               200.0          2         South\n",
       "41         Montana       MT               200.0         11          West\n",
       "42         Georgia       GA               155.0         31         South\n",
       "43     Connecticut       CT               144.0          2   New England\n",
       "44      New Jersey       NJ               120.0          2  Mid-Atlantic"
      ]
     },
     "metadata": {},
     "output_type": "display_data"
    },
    {
     "data": {
      "application/vnd.plotly.v1+json": {
       "config": {
        "plotlyServerURL": "https://plot.ly"
       },
       "data": [
        {
         "hovertemplate": "region=South<br>Median Hourly Rate (USD)=%{x}<br>=%{y}<extra></extra>",
         "legendgroup": "South",
         "marker": {
          "color": "#b2df8a",
          "pattern": {
           "shape": ""
          }
         },
         "name": "South",
         "orientation": "h",
         "showlegend": true,
         "textposition": "auto",
         "type": "bar",
         "x": {
          "bdata": "AAAAAAAAeUAAAAAAAOB1QAAAAAAAwHJAAAAAAABAb0AAAAAAAEBvQAAAAAAAQG9AAAAAAACwbUAAAAAAAABpQAAAAAAAAGlAAAAAAAAAaUAAAAAAAGBjQA==",
          "dtype": "f8"
         },
         "xaxis": "x",
         "y": [
          "Florida",
          "Alabama",
          "Arkansas",
          "West Virginia",
          "Kentucky",
          "Virginia",
          "South Carolina",
          "North Carolina",
          "Tennessee",
          "Mississippi",
          "Georgia"
         ],
         "yaxis": "y"
        },
        {
         "hovertemplate": "region=Mid-Atlantic<br>Median Hourly Rate (USD)=%{x}<br>=%{y}<extra></extra>",
         "legendgroup": "Mid-Atlantic",
         "marker": {
          "color": "#1f78b4",
          "pattern": {
           "shape": ""
          }
         },
         "name": "Mid-Atlantic",
         "orientation": "h",
         "showlegend": true,
         "textposition": "auto",
         "type": "bar",
         "x": {
          "bdata": "AAAAAABQdEAAAAAAAEBvQAAAAAAAQG9AAAAAAAAAXkA=",
          "dtype": "f8"
         },
         "xaxis": "x",
         "y": [
          "Maryland",
          "Pennsylvania",
          "New York",
          "New Jersey"
         ],
         "yaxis": "y"
        },
        {
         "hovertemplate": "region=Midwest<br>Median Hourly Rate (USD)=%{x}<br>=%{y}<extra></extra>",
         "legendgroup": "Midwest",
         "marker": {
          "color": "#33a02c",
          "pattern": {
           "shape": ""
          }
         },
         "name": "Midwest",
         "orientation": "h",
         "showlegend": true,
         "textposition": "auto",
         "type": "bar",
         "x": {
          "bdata": "AAAAAACIc0AAAAAAAMByQAAAAAAAwHJAAAAAAADAckAAAAAAAMByQAAAAAAAwHJAAAAAAAAwcUAAAAAAAGhwQAAAAAAAQG9AAAAAAABAb0AAAAAAAIBrQA==",
          "dtype": "f8"
         },
         "xaxis": "x",
         "y": [
          "Minnesota",
          "Michigan",
          "North Dakota",
          "Nebraska",
          "Missouri",
          "Ohio",
          "Wisconsin",
          "Indiana",
          "Illinois",
          "Iowa",
          "Kansas"
         ],
         "yaxis": "y"
        },
        {
         "hovertemplate": "region=Southwest<br>Median Hourly Rate (USD)=%{x}<br>=%{y}<extra></extra>",
         "legendgroup": "Southwest",
         "marker": {
          "color": "#fb9a99",
          "pattern": {
           "shape": ""
          }
         },
         "name": "Southwest",
         "orientation": "h",
         "showlegend": true,
         "textposition": "auto",
         "type": "bar",
         "x": {
          "bdata": "AAAAAADAckAAAAAAAEBvQAAAAAAAQG9AAAAAAACwbUA=",
          "dtype": "f8"
         },
         "xaxis": "x",
         "y": [
          "Arizona",
          "Texas",
          "Oklahoma",
          "New Mexico"
         ],
         "yaxis": "y"
        },
        {
         "hovertemplate": "region=West<br>Median Hourly Rate (USD)=%{x}<br>=%{y}<extra></extra>",
         "legendgroup": "West",
         "marker": {
          "color": "#e31a1c",
          "pattern": {
           "shape": ""
          }
         },
         "name": "West",
         "orientation": "h",
         "showlegend": true,
         "textposition": "auto",
         "type": "bar",
         "x": {
          "bdata": "AAAAAADAckAAAAAAAPhxQAAAAAAAQG9AAAAAAABAb0AAAAAAAIBrQAAAAAAAgGtAAAAAAACAa0AAAAAAAKBpQAAAAAAAAGlAAAAAAAAAaUA=",
          "dtype": "f8"
         },
         "xaxis": "x",
         "y": [
          "Colorado",
          "Idaho",
          "Alaska",
          "Washington",
          "Utah",
          "Wyoming",
          "California",
          "Nevada",
          "Oregon",
          "Montana"
         ],
         "yaxis": "y"
        },
        {
         "hovertemplate": "region=New England<br>Median Hourly Rate (USD)=%{x}<br>=%{y}<extra></extra>",
         "legendgroup": "New England",
         "marker": {
          "color": "#a6cee3",
          "pattern": {
           "shape": ""
          }
         },
         "name": "New England",
         "orientation": "h",
         "showlegend": true,
         "textposition": "auto",
         "type": "bar",
         "x": {
          "bdata": "AAAAAABAb0AAAAAAAEBvQAAAAAAAQG9AAAAAAABAakAAAAAAAABiQA==",
          "dtype": "f8"
         },
         "xaxis": "x",
         "y": [
          "New Hampshire",
          "Maine",
          "Massachusetts",
          "Vermont",
          "Connecticut"
         ],
         "yaxis": "y"
        }
       ],
       "layout": {
        "barmode": "relative",
        "height": 800,
        "legend": {
         "title": {
          "text": "Region"
         },
         "tracegroupgap": 0
        },
        "showlegend": true,
        "template": {
         "data": {
          "bar": [
           {
            "error_x": {
             "color": "#2a3f5f"
            },
            "error_y": {
             "color": "#2a3f5f"
            },
            "marker": {
             "line": {
              "color": "white",
              "width": 0.5
             },
             "pattern": {
              "fillmode": "overlay",
              "size": 10,
              "solidity": 0.2
             }
            },
            "type": "bar"
           }
          ],
          "barpolar": [
           {
            "marker": {
             "line": {
              "color": "white",
              "width": 0.5
             },
             "pattern": {
              "fillmode": "overlay",
              "size": 10,
              "solidity": 0.2
             }
            },
            "type": "barpolar"
           }
          ],
          "carpet": [
           {
            "aaxis": {
             "endlinecolor": "#2a3f5f",
             "gridcolor": "#C8D4E3",
             "linecolor": "#C8D4E3",
             "minorgridcolor": "#C8D4E3",
             "startlinecolor": "#2a3f5f"
            },
            "baxis": {
             "endlinecolor": "#2a3f5f",
             "gridcolor": "#C8D4E3",
             "linecolor": "#C8D4E3",
             "minorgridcolor": "#C8D4E3",
             "startlinecolor": "#2a3f5f"
            },
            "type": "carpet"
           }
          ],
          "choropleth": [
           {
            "colorbar": {
             "outlinewidth": 0,
             "ticks": ""
            },
            "type": "choropleth"
           }
          ],
          "contour": [
           {
            "colorbar": {
             "outlinewidth": 0,
             "ticks": ""
            },
            "colorscale": [
             [
              0,
              "#0d0887"
             ],
             [
              0.1111111111111111,
              "#46039f"
             ],
             [
              0.2222222222222222,
              "#7201a8"
             ],
             [
              0.3333333333333333,
              "#9c179e"
             ],
             [
              0.4444444444444444,
              "#bd3786"
             ],
             [
              0.5555555555555556,
              "#d8576b"
             ],
             [
              0.6666666666666666,
              "#ed7953"
             ],
             [
              0.7777777777777778,
              "#fb9f3a"
             ],
             [
              0.8888888888888888,
              "#fdca26"
             ],
             [
              1,
              "#f0f921"
             ]
            ],
            "type": "contour"
           }
          ],
          "contourcarpet": [
           {
            "colorbar": {
             "outlinewidth": 0,
             "ticks": ""
            },
            "type": "contourcarpet"
           }
          ],
          "heatmap": [
           {
            "colorbar": {
             "outlinewidth": 0,
             "ticks": ""
            },
            "colorscale": [
             [
              0,
              "#0d0887"
             ],
             [
              0.1111111111111111,
              "#46039f"
             ],
             [
              0.2222222222222222,
              "#7201a8"
             ],
             [
              0.3333333333333333,
              "#9c179e"
             ],
             [
              0.4444444444444444,
              "#bd3786"
             ],
             [
              0.5555555555555556,
              "#d8576b"
             ],
             [
              0.6666666666666666,
              "#ed7953"
             ],
             [
              0.7777777777777778,
              "#fb9f3a"
             ],
             [
              0.8888888888888888,
              "#fdca26"
             ],
             [
              1,
              "#f0f921"
             ]
            ],
            "type": "heatmap"
           }
          ],
          "histogram": [
           {
            "marker": {
             "pattern": {
              "fillmode": "overlay",
              "size": 10,
              "solidity": 0.2
             }
            },
            "type": "histogram"
           }
          ],
          "histogram2d": [
           {
            "colorbar": {
             "outlinewidth": 0,
             "ticks": ""
            },
            "colorscale": [
             [
              0,
              "#0d0887"
             ],
             [
              0.1111111111111111,
              "#46039f"
             ],
             [
              0.2222222222222222,
              "#7201a8"
             ],
             [
              0.3333333333333333,
              "#9c179e"
             ],
             [
              0.4444444444444444,
              "#bd3786"
             ],
             [
              0.5555555555555556,
              "#d8576b"
             ],
             [
              0.6666666666666666,
              "#ed7953"
             ],
             [
              0.7777777777777778,
              "#fb9f3a"
             ],
             [
              0.8888888888888888,
              "#fdca26"
             ],
             [
              1,
              "#f0f921"
             ]
            ],
            "type": "histogram2d"
           }
          ],
          "histogram2dcontour": [
           {
            "colorbar": {
             "outlinewidth": 0,
             "ticks": ""
            },
            "colorscale": [
             [
              0,
              "#0d0887"
             ],
             [
              0.1111111111111111,
              "#46039f"
             ],
             [
              0.2222222222222222,
              "#7201a8"
             ],
             [
              0.3333333333333333,
              "#9c179e"
             ],
             [
              0.4444444444444444,
              "#bd3786"
             ],
             [
              0.5555555555555556,
              "#d8576b"
             ],
             [
              0.6666666666666666,
              "#ed7953"
             ],
             [
              0.7777777777777778,
              "#fb9f3a"
             ],
             [
              0.8888888888888888,
              "#fdca26"
             ],
             [
              1,
              "#f0f921"
             ]
            ],
            "type": "histogram2dcontour"
           }
          ],
          "mesh3d": [
           {
            "colorbar": {
             "outlinewidth": 0,
             "ticks": ""
            },
            "type": "mesh3d"
           }
          ],
          "parcoords": [
           {
            "line": {
             "colorbar": {
              "outlinewidth": 0,
              "ticks": ""
             }
            },
            "type": "parcoords"
           }
          ],
          "pie": [
           {
            "automargin": true,
            "type": "pie"
           }
          ],
          "scatter": [
           {
            "fillpattern": {
             "fillmode": "overlay",
             "size": 10,
             "solidity": 0.2
            },
            "type": "scatter"
           }
          ],
          "scatter3d": [
           {
            "line": {
             "colorbar": {
              "outlinewidth": 0,
              "ticks": ""
             }
            },
            "marker": {
             "colorbar": {
              "outlinewidth": 0,
              "ticks": ""
             }
            },
            "type": "scatter3d"
           }
          ],
          "scattercarpet": [
           {
            "marker": {
             "colorbar": {
              "outlinewidth": 0,
              "ticks": ""
             }
            },
            "type": "scattercarpet"
           }
          ],
          "scattergeo": [
           {
            "marker": {
             "colorbar": {
              "outlinewidth": 0,
              "ticks": ""
             }
            },
            "type": "scattergeo"
           }
          ],
          "scattergl": [
           {
            "marker": {
             "colorbar": {
              "outlinewidth": 0,
              "ticks": ""
             }
            },
            "type": "scattergl"
           }
          ],
          "scattermap": [
           {
            "marker": {
             "colorbar": {
              "outlinewidth": 0,
              "ticks": ""
             }
            },
            "type": "scattermap"
           }
          ],
          "scattermapbox": [
           {
            "marker": {
             "colorbar": {
              "outlinewidth": 0,
              "ticks": ""
             }
            },
            "type": "scattermapbox"
           }
          ],
          "scatterpolar": [
           {
            "marker": {
             "colorbar": {
              "outlinewidth": 0,
              "ticks": ""
             }
            },
            "type": "scatterpolar"
           }
          ],
          "scatterpolargl": [
           {
            "marker": {
             "colorbar": {
              "outlinewidth": 0,
              "ticks": ""
             }
            },
            "type": "scatterpolargl"
           }
          ],
          "scatterternary": [
           {
            "marker": {
             "colorbar": {
              "outlinewidth": 0,
              "ticks": ""
             }
            },
            "type": "scatterternary"
           }
          ],
          "surface": [
           {
            "colorbar": {
             "outlinewidth": 0,
             "ticks": ""
            },
            "colorscale": [
             [
              0,
              "#0d0887"
             ],
             [
              0.1111111111111111,
              "#46039f"
             ],
             [
              0.2222222222222222,
              "#7201a8"
             ],
             [
              0.3333333333333333,
              "#9c179e"
             ],
             [
              0.4444444444444444,
              "#bd3786"
             ],
             [
              0.5555555555555556,
              "#d8576b"
             ],
             [
              0.6666666666666666,
              "#ed7953"
             ],
             [
              0.7777777777777778,
              "#fb9f3a"
             ],
             [
              0.8888888888888888,
              "#fdca26"
             ],
             [
              1,
              "#f0f921"
             ]
            ],
            "type": "surface"
           }
          ],
          "table": [
           {
            "cells": {
             "fill": {
              "color": "#EBF0F8"
             },
             "line": {
              "color": "white"
             }
            },
            "header": {
             "fill": {
              "color": "#C8D4E3"
             },
             "line": {
              "color": "white"
             }
            },
            "type": "table"
           }
          ]
         },
         "layout": {
          "annotationdefaults": {
           "arrowcolor": "#2a3f5f",
           "arrowhead": 0,
           "arrowwidth": 1
          },
          "autotypenumbers": "strict",
          "coloraxis": {
           "colorbar": {
            "outlinewidth": 0,
            "ticks": ""
           }
          },
          "colorscale": {
           "diverging": [
            [
             0,
             "#8e0152"
            ],
            [
             0.1,
             "#c51b7d"
            ],
            [
             0.2,
             "#de77ae"
            ],
            [
             0.3,
             "#f1b6da"
            ],
            [
             0.4,
             "#fde0ef"
            ],
            [
             0.5,
             "#f7f7f7"
            ],
            [
             0.6,
             "#e6f5d0"
            ],
            [
             0.7,
             "#b8e186"
            ],
            [
             0.8,
             "#7fbc41"
            ],
            [
             0.9,
             "#4d9221"
            ],
            [
             1,
             "#276419"
            ]
           ],
           "sequential": [
            [
             0,
             "#0d0887"
            ],
            [
             0.1111111111111111,
             "#46039f"
            ],
            [
             0.2222222222222222,
             "#7201a8"
            ],
            [
             0.3333333333333333,
             "#9c179e"
            ],
            [
             0.4444444444444444,
             "#bd3786"
            ],
            [
             0.5555555555555556,
             "#d8576b"
            ],
            [
             0.6666666666666666,
             "#ed7953"
            ],
            [
             0.7777777777777778,
             "#fb9f3a"
            ],
            [
             0.8888888888888888,
             "#fdca26"
            ],
            [
             1,
             "#f0f921"
            ]
           ],
           "sequentialminus": [
            [
             0,
             "#0d0887"
            ],
            [
             0.1111111111111111,
             "#46039f"
            ],
            [
             0.2222222222222222,
             "#7201a8"
            ],
            [
             0.3333333333333333,
             "#9c179e"
            ],
            [
             0.4444444444444444,
             "#bd3786"
            ],
            [
             0.5555555555555556,
             "#d8576b"
            ],
            [
             0.6666666666666666,
             "#ed7953"
            ],
            [
             0.7777777777777778,
             "#fb9f3a"
            ],
            [
             0.8888888888888888,
             "#fdca26"
            ],
            [
             1,
             "#f0f921"
            ]
           ]
          },
          "colorway": [
           "#636efa",
           "#EF553B",
           "#00cc96",
           "#ab63fa",
           "#FFA15A",
           "#19d3f3",
           "#FF6692",
           "#B6E880",
           "#FF97FF",
           "#FECB52"
          ],
          "font": {
           "color": "#2a3f5f"
          },
          "geo": {
           "bgcolor": "white",
           "lakecolor": "white",
           "landcolor": "white",
           "showlakes": true,
           "showland": true,
           "subunitcolor": "#C8D4E3"
          },
          "hoverlabel": {
           "align": "left"
          },
          "hovermode": "closest",
          "mapbox": {
           "style": "light"
          },
          "paper_bgcolor": "white",
          "plot_bgcolor": "white",
          "polar": {
           "angularaxis": {
            "gridcolor": "#EBF0F8",
            "linecolor": "#EBF0F8",
            "ticks": ""
           },
           "bgcolor": "white",
           "radialaxis": {
            "gridcolor": "#EBF0F8",
            "linecolor": "#EBF0F8",
            "ticks": ""
           }
          },
          "scene": {
           "xaxis": {
            "backgroundcolor": "white",
            "gridcolor": "#DFE8F3",
            "gridwidth": 2,
            "linecolor": "#EBF0F8",
            "showbackground": true,
            "ticks": "",
            "zerolinecolor": "#EBF0F8"
           },
           "yaxis": {
            "backgroundcolor": "white",
            "gridcolor": "#DFE8F3",
            "gridwidth": 2,
            "linecolor": "#EBF0F8",
            "showbackground": true,
            "ticks": "",
            "zerolinecolor": "#EBF0F8"
           },
           "zaxis": {
            "backgroundcolor": "white",
            "gridcolor": "#DFE8F3",
            "gridwidth": 2,
            "linecolor": "#EBF0F8",
            "showbackground": true,
            "ticks": "",
            "zerolinecolor": "#EBF0F8"
           }
          },
          "shapedefaults": {
           "line": {
            "color": "#2a3f5f"
           }
          },
          "ternary": {
           "aaxis": {
            "gridcolor": "#DFE8F3",
            "linecolor": "#A2B1C6",
            "ticks": ""
           },
           "baxis": {
            "gridcolor": "#DFE8F3",
            "linecolor": "#A2B1C6",
            "ticks": ""
           },
           "bgcolor": "white",
           "caxis": {
            "gridcolor": "#DFE8F3",
            "linecolor": "#A2B1C6",
            "ticks": ""
           }
          },
          "title": {
           "x": 0.05
          },
          "xaxis": {
           "automargin": true,
           "gridcolor": "#EBF0F8",
           "linecolor": "#EBF0F8",
           "ticks": "",
           "title": {
            "standoff": 15
           },
           "zerolinecolor": "#EBF0F8",
           "zerolinewidth": 2
          },
          "yaxis": {
           "automargin": true,
           "gridcolor": "#EBF0F8",
           "linecolor": "#EBF0F8",
           "ticks": "",
           "title": {
            "standoff": 15
           },
           "zerolinecolor": "#EBF0F8",
           "zerolinewidth": 2
          }
         }
        },
        "title": {
         "text": "Median Hourly Pay Rate by State, Colored by Region"
        },
        "xaxis": {
         "anchor": "y",
         "domain": [
          0,
          1
         ],
         "title": {
          "text": "Median Hourly Rate (USD)"
         }
        },
        "yaxis": {
         "anchor": "x",
         "categoryorder": "total ascending",
         "domain": [
          0,
          1
         ],
         "title": {
          "text": ""
         }
        }
       }
      }
     },
     "metadata": {},
     "output_type": "display_data"
    },
    {
     "data": {
      "application/vnd.plotly.v1+json": {
       "config": {
        "plotlyServerURL": "https://plot.ly"
       },
       "data": [
        {
         "coloraxis": "coloraxis",
         "customdata": [
          [
           "FL",
           400,
           10
          ],
          [
           "AL",
           350,
           12
          ],
          [
           "MD",
           325,
           24
          ],
          [
           "MN",
           312.5,
           6
          ],
          [
           "AR",
           300,
           17
          ],
          [
           "MI",
           300,
           54
          ],
          [
           "ND",
           300,
           8
          ],
          [
           "NE",
           300,
           3
          ],
          [
           "MO",
           300,
           50
          ],
          [
           "OH",
           300,
           49
          ],
          [
           "AZ",
           300,
           34
          ],
          [
           "CO",
           300,
           14
          ],
          [
           "ID",
           287.5,
           18
          ],
          [
           "WI",
           275,
           49
          ],
          [
           "IN",
           262.5,
           20
          ],
          [
           "PA",
           250,
           173
          ],
          [
           "NY",
           250,
           13
          ],
          [
           "NH",
           250,
           1
          ],
          [
           "TX",
           250,
           57
          ],
          [
           "WV",
           250,
           15
          ],
          [
           "AK",
           250,
           3
          ],
          [
           "IL",
           250,
           32
          ],
          [
           "WA",
           250,
           69
          ],
          [
           "OK",
           250,
           9
          ],
          [
           "ME",
           250,
           3
          ],
          [
           "KY",
           250,
           30
          ],
          [
           "VA",
           250,
           26
          ],
          [
           "IA",
           250,
           18
          ],
          [
           "MA",
           250,
           20
          ],
          [
           "SC",
           237.5,
           16
          ],
          [
           "NM",
           237.5,
           30
          ],
          [
           "UT",
           220,
           7
          ],
          [
           "WY",
           220,
           1
          ],
          [
           "KS",
           220,
           3
          ],
          [
           "CA",
           220,
           105
          ],
          [
           "VT",
           210,
           7
          ],
          [
           "NV",
           205,
           10
          ],
          [
           "OR",
           200,
           34
          ],
          [
           "NC",
           200,
           43
          ],
          [
           "TN",
           200,
           21
          ],
          [
           "MS",
           200,
           2
          ],
          [
           "MT",
           200,
           11
          ],
          [
           "GA",
           155,
           31
          ],
          [
           "CT",
           144,
           2
          ],
          [
           "NJ",
           120,
           2
          ]
         ],
         "geo": "geo",
         "hovertemplate": "<b>%{hovertext}</b><br><br>Median Hourly Rate=%{z:.2f}<br>Job Count=%{customdata[2]}<extra></extra>",
         "hovertext": [
          "Florida",
          "Alabama",
          "Maryland",
          "Minnesota",
          "Arkansas",
          "Michigan",
          "North Dakota",
          "Nebraska",
          "Missouri",
          "Ohio",
          "Arizona",
          "Colorado",
          "Idaho",
          "Wisconsin",
          "Indiana",
          "Pennsylvania",
          "New York",
          "New Hampshire",
          "Texas",
          "West Virginia",
          "Alaska",
          "Illinois",
          "Washington",
          "Oklahoma",
          "Maine",
          "Kentucky",
          "Virginia",
          "Iowa",
          "Massachusetts",
          "South Carolina",
          "New Mexico",
          "Utah",
          "Wyoming",
          "Kansas",
          "California",
          "Vermont",
          "Nevada",
          "Oregon",
          "North Carolina",
          "Tennessee",
          "Mississippi",
          "Montana",
          "Georgia",
          "Connecticut",
          "New Jersey"
         ],
         "locationmode": "USA-states",
         "locations": [
          "FL",
          "AL",
          "MD",
          "MN",
          "AR",
          "MI",
          "ND",
          "NE",
          "MO",
          "OH",
          "AZ",
          "CO",
          "ID",
          "WI",
          "IN",
          "PA",
          "NY",
          "NH",
          "TX",
          "WV",
          "AK",
          "IL",
          "WA",
          "OK",
          "ME",
          "KY",
          "VA",
          "IA",
          "MA",
          "SC",
          "NM",
          "UT",
          "WY",
          "KS",
          "CA",
          "VT",
          "NV",
          "OR",
          "NC",
          "TN",
          "MS",
          "MT",
          "GA",
          "CT",
          "NJ"
         ],
         "name": "",
         "type": "choropleth",
         "z": {
          "bdata": "AAAAAAAAeUAAAAAAAOB1QAAAAAAAUHRAAAAAAACIc0AAAAAAAMByQAAAAAAAwHJAAAAAAADAckAAAAAAAMByQAAAAAAAwHJAAAAAAADAckAAAAAAAMByQAAAAAAAwHJAAAAAAAD4cUAAAAAAADBxQAAAAAAAaHBAAAAAAABAb0AAAAAAAEBvQAAAAAAAQG9AAAAAAABAb0AAAAAAAEBvQAAAAAAAQG9AAAAAAABAb0AAAAAAAEBvQAAAAAAAQG9AAAAAAABAb0AAAAAAAEBvQAAAAAAAQG9AAAAAAABAb0AAAAAAAEBvQAAAAAAAsG1AAAAAAACwbUAAAAAAAIBrQAAAAAAAgGtAAAAAAACAa0AAAAAAAIBrQAAAAAAAQGpAAAAAAACgaUAAAAAAAABpQAAAAAAAAGlAAAAAAAAAaUAAAAAAAABpQAAAAAAAAGlAAAAAAABgY0AAAAAAAABiQAAAAAAAAF5A",
          "dtype": "f8"
         }
        }
       ],
       "layout": {
        "coloraxis": {
         "colorbar": {
          "title": {
           "text": "Median Hourly Rate"
          }
         },
         "colorscale": [
          [
           0,
           "rgb(247,251,255)"
          ],
          [
           0.125,
           "rgb(222,235,247)"
          ],
          [
           0.25,
           "rgb(198,219,239)"
          ],
          [
           0.375,
           "rgb(158,202,225)"
          ],
          [
           0.5,
           "rgb(107,174,214)"
          ],
          [
           0.625,
           "rgb(66,146,198)"
          ],
          [
           0.75,
           "rgb(33,113,181)"
          ],
          [
           0.875,
           "rgb(8,81,156)"
          ],
          [
           1,
           "rgb(8,48,107)"
          ]
         ]
        },
        "geo": {
         "center": {},
         "domain": {
          "x": [
           0,
           1
          ],
          "y": [
           0,
           1
          ]
         },
         "scope": "usa"
        },
        "legend": {
         "tracegroupgap": 0
        },
        "template": {
         "data": {
          "bar": [
           {
            "error_x": {
             "color": "#2a3f5f"
            },
            "error_y": {
             "color": "#2a3f5f"
            },
            "marker": {
             "line": {
              "color": "white",
              "width": 0.5
             },
             "pattern": {
              "fillmode": "overlay",
              "size": 10,
              "solidity": 0.2
             }
            },
            "type": "bar"
           }
          ],
          "barpolar": [
           {
            "marker": {
             "line": {
              "color": "white",
              "width": 0.5
             },
             "pattern": {
              "fillmode": "overlay",
              "size": 10,
              "solidity": 0.2
             }
            },
            "type": "barpolar"
           }
          ],
          "carpet": [
           {
            "aaxis": {
             "endlinecolor": "#2a3f5f",
             "gridcolor": "#C8D4E3",
             "linecolor": "#C8D4E3",
             "minorgridcolor": "#C8D4E3",
             "startlinecolor": "#2a3f5f"
            },
            "baxis": {
             "endlinecolor": "#2a3f5f",
             "gridcolor": "#C8D4E3",
             "linecolor": "#C8D4E3",
             "minorgridcolor": "#C8D4E3",
             "startlinecolor": "#2a3f5f"
            },
            "type": "carpet"
           }
          ],
          "choropleth": [
           {
            "colorbar": {
             "outlinewidth": 0,
             "ticks": ""
            },
            "type": "choropleth"
           }
          ],
          "contour": [
           {
            "colorbar": {
             "outlinewidth": 0,
             "ticks": ""
            },
            "colorscale": [
             [
              0,
              "#0d0887"
             ],
             [
              0.1111111111111111,
              "#46039f"
             ],
             [
              0.2222222222222222,
              "#7201a8"
             ],
             [
              0.3333333333333333,
              "#9c179e"
             ],
             [
              0.4444444444444444,
              "#bd3786"
             ],
             [
              0.5555555555555556,
              "#d8576b"
             ],
             [
              0.6666666666666666,
              "#ed7953"
             ],
             [
              0.7777777777777778,
              "#fb9f3a"
             ],
             [
              0.8888888888888888,
              "#fdca26"
             ],
             [
              1,
              "#f0f921"
             ]
            ],
            "type": "contour"
           }
          ],
          "contourcarpet": [
           {
            "colorbar": {
             "outlinewidth": 0,
             "ticks": ""
            },
            "type": "contourcarpet"
           }
          ],
          "heatmap": [
           {
            "colorbar": {
             "outlinewidth": 0,
             "ticks": ""
            },
            "colorscale": [
             [
              0,
              "#0d0887"
             ],
             [
              0.1111111111111111,
              "#46039f"
             ],
             [
              0.2222222222222222,
              "#7201a8"
             ],
             [
              0.3333333333333333,
              "#9c179e"
             ],
             [
              0.4444444444444444,
              "#bd3786"
             ],
             [
              0.5555555555555556,
              "#d8576b"
             ],
             [
              0.6666666666666666,
              "#ed7953"
             ],
             [
              0.7777777777777778,
              "#fb9f3a"
             ],
             [
              0.8888888888888888,
              "#fdca26"
             ],
             [
              1,
              "#f0f921"
             ]
            ],
            "type": "heatmap"
           }
          ],
          "histogram": [
           {
            "marker": {
             "pattern": {
              "fillmode": "overlay",
              "size": 10,
              "solidity": 0.2
             }
            },
            "type": "histogram"
           }
          ],
          "histogram2d": [
           {
            "colorbar": {
             "outlinewidth": 0,
             "ticks": ""
            },
            "colorscale": [
             [
              0,
              "#0d0887"
             ],
             [
              0.1111111111111111,
              "#46039f"
             ],
             [
              0.2222222222222222,
              "#7201a8"
             ],
             [
              0.3333333333333333,
              "#9c179e"
             ],
             [
              0.4444444444444444,
              "#bd3786"
             ],
             [
              0.5555555555555556,
              "#d8576b"
             ],
             [
              0.6666666666666666,
              "#ed7953"
             ],
             [
              0.7777777777777778,
              "#fb9f3a"
             ],
             [
              0.8888888888888888,
              "#fdca26"
             ],
             [
              1,
              "#f0f921"
             ]
            ],
            "type": "histogram2d"
           }
          ],
          "histogram2dcontour": [
           {
            "colorbar": {
             "outlinewidth": 0,
             "ticks": ""
            },
            "colorscale": [
             [
              0,
              "#0d0887"
             ],
             [
              0.1111111111111111,
              "#46039f"
             ],
             [
              0.2222222222222222,
              "#7201a8"
             ],
             [
              0.3333333333333333,
              "#9c179e"
             ],
             [
              0.4444444444444444,
              "#bd3786"
             ],
             [
              0.5555555555555556,
              "#d8576b"
             ],
             [
              0.6666666666666666,
              "#ed7953"
             ],
             [
              0.7777777777777778,
              "#fb9f3a"
             ],
             [
              0.8888888888888888,
              "#fdca26"
             ],
             [
              1,
              "#f0f921"
             ]
            ],
            "type": "histogram2dcontour"
           }
          ],
          "mesh3d": [
           {
            "colorbar": {
             "outlinewidth": 0,
             "ticks": ""
            },
            "type": "mesh3d"
           }
          ],
          "parcoords": [
           {
            "line": {
             "colorbar": {
              "outlinewidth": 0,
              "ticks": ""
             }
            },
            "type": "parcoords"
           }
          ],
          "pie": [
           {
            "automargin": true,
            "type": "pie"
           }
          ],
          "scatter": [
           {
            "fillpattern": {
             "fillmode": "overlay",
             "size": 10,
             "solidity": 0.2
            },
            "type": "scatter"
           }
          ],
          "scatter3d": [
           {
            "line": {
             "colorbar": {
              "outlinewidth": 0,
              "ticks": ""
             }
            },
            "marker": {
             "colorbar": {
              "outlinewidth": 0,
              "ticks": ""
             }
            },
            "type": "scatter3d"
           }
          ],
          "scattercarpet": [
           {
            "marker": {
             "colorbar": {
              "outlinewidth": 0,
              "ticks": ""
             }
            },
            "type": "scattercarpet"
           }
          ],
          "scattergeo": [
           {
            "marker": {
             "colorbar": {
              "outlinewidth": 0,
              "ticks": ""
             }
            },
            "type": "scattergeo"
           }
          ],
          "scattergl": [
           {
            "marker": {
             "colorbar": {
              "outlinewidth": 0,
              "ticks": ""
             }
            },
            "type": "scattergl"
           }
          ],
          "scattermap": [
           {
            "marker": {
             "colorbar": {
              "outlinewidth": 0,
              "ticks": ""
             }
            },
            "type": "scattermap"
           }
          ],
          "scattermapbox": [
           {
            "marker": {
             "colorbar": {
              "outlinewidth": 0,
              "ticks": ""
             }
            },
            "type": "scattermapbox"
           }
          ],
          "scatterpolar": [
           {
            "marker": {
             "colorbar": {
              "outlinewidth": 0,
              "ticks": ""
             }
            },
            "type": "scatterpolar"
           }
          ],
          "scatterpolargl": [
           {
            "marker": {
             "colorbar": {
              "outlinewidth": 0,
              "ticks": ""
             }
            },
            "type": "scatterpolargl"
           }
          ],
          "scatterternary": [
           {
            "marker": {
             "colorbar": {
              "outlinewidth": 0,
              "ticks": ""
             }
            },
            "type": "scatterternary"
           }
          ],
          "surface": [
           {
            "colorbar": {
             "outlinewidth": 0,
             "ticks": ""
            },
            "colorscale": [
             [
              0,
              "#0d0887"
             ],
             [
              0.1111111111111111,
              "#46039f"
             ],
             [
              0.2222222222222222,
              "#7201a8"
             ],
             [
              0.3333333333333333,
              "#9c179e"
             ],
             [
              0.4444444444444444,
              "#bd3786"
             ],
             [
              0.5555555555555556,
              "#d8576b"
             ],
             [
              0.6666666666666666,
              "#ed7953"
             ],
             [
              0.7777777777777778,
              "#fb9f3a"
             ],
             [
              0.8888888888888888,
              "#fdca26"
             ],
             [
              1,
              "#f0f921"
             ]
            ],
            "type": "surface"
           }
          ],
          "table": [
           {
            "cells": {
             "fill": {
              "color": "#EBF0F8"
             },
             "line": {
              "color": "white"
             }
            },
            "header": {
             "fill": {
              "color": "#C8D4E3"
             },
             "line": {
              "color": "white"
             }
            },
            "type": "table"
           }
          ]
         },
         "layout": {
          "annotationdefaults": {
           "arrowcolor": "#2a3f5f",
           "arrowhead": 0,
           "arrowwidth": 1
          },
          "autotypenumbers": "strict",
          "coloraxis": {
           "colorbar": {
            "outlinewidth": 0,
            "ticks": ""
           }
          },
          "colorscale": {
           "diverging": [
            [
             0,
             "#8e0152"
            ],
            [
             0.1,
             "#c51b7d"
            ],
            [
             0.2,
             "#de77ae"
            ],
            [
             0.3,
             "#f1b6da"
            ],
            [
             0.4,
             "#fde0ef"
            ],
            [
             0.5,
             "#f7f7f7"
            ],
            [
             0.6,
             "#e6f5d0"
            ],
            [
             0.7,
             "#b8e186"
            ],
            [
             0.8,
             "#7fbc41"
            ],
            [
             0.9,
             "#4d9221"
            ],
            [
             1,
             "#276419"
            ]
           ],
           "sequential": [
            [
             0,
             "#0d0887"
            ],
            [
             0.1111111111111111,
             "#46039f"
            ],
            [
             0.2222222222222222,
             "#7201a8"
            ],
            [
             0.3333333333333333,
             "#9c179e"
            ],
            [
             0.4444444444444444,
             "#bd3786"
            ],
            [
             0.5555555555555556,
             "#d8576b"
            ],
            [
             0.6666666666666666,
             "#ed7953"
            ],
            [
             0.7777777777777778,
             "#fb9f3a"
            ],
            [
             0.8888888888888888,
             "#fdca26"
            ],
            [
             1,
             "#f0f921"
            ]
           ],
           "sequentialminus": [
            [
             0,
             "#0d0887"
            ],
            [
             0.1111111111111111,
             "#46039f"
            ],
            [
             0.2222222222222222,
             "#7201a8"
            ],
            [
             0.3333333333333333,
             "#9c179e"
            ],
            [
             0.4444444444444444,
             "#bd3786"
            ],
            [
             0.5555555555555556,
             "#d8576b"
            ],
            [
             0.6666666666666666,
             "#ed7953"
            ],
            [
             0.7777777777777778,
             "#fb9f3a"
            ],
            [
             0.8888888888888888,
             "#fdca26"
            ],
            [
             1,
             "#f0f921"
            ]
           ]
          },
          "colorway": [
           "#636efa",
           "#EF553B",
           "#00cc96",
           "#ab63fa",
           "#FFA15A",
           "#19d3f3",
           "#FF6692",
           "#B6E880",
           "#FF97FF",
           "#FECB52"
          ],
          "font": {
           "color": "#2a3f5f"
          },
          "geo": {
           "bgcolor": "white",
           "lakecolor": "white",
           "landcolor": "white",
           "showlakes": true,
           "showland": true,
           "subunitcolor": "#C8D4E3"
          },
          "hoverlabel": {
           "align": "left"
          },
          "hovermode": "closest",
          "mapbox": {
           "style": "light"
          },
          "paper_bgcolor": "white",
          "plot_bgcolor": "white",
          "polar": {
           "angularaxis": {
            "gridcolor": "#EBF0F8",
            "linecolor": "#EBF0F8",
            "ticks": ""
           },
           "bgcolor": "white",
           "radialaxis": {
            "gridcolor": "#EBF0F8",
            "linecolor": "#EBF0F8",
            "ticks": ""
           }
          },
          "scene": {
           "xaxis": {
            "backgroundcolor": "white",
            "gridcolor": "#DFE8F3",
            "gridwidth": 2,
            "linecolor": "#EBF0F8",
            "showbackground": true,
            "ticks": "",
            "zerolinecolor": "#EBF0F8"
           },
           "yaxis": {
            "backgroundcolor": "white",
            "gridcolor": "#DFE8F3",
            "gridwidth": 2,
            "linecolor": "#EBF0F8",
            "showbackground": true,
            "ticks": "",
            "zerolinecolor": "#EBF0F8"
           },
           "zaxis": {
            "backgroundcolor": "white",
            "gridcolor": "#DFE8F3",
            "gridwidth": 2,
            "linecolor": "#EBF0F8",
            "showbackground": true,
            "ticks": "",
            "zerolinecolor": "#EBF0F8"
           }
          },
          "shapedefaults": {
           "line": {
            "color": "#2a3f5f"
           }
          },
          "ternary": {
           "aaxis": {
            "gridcolor": "#DFE8F3",
            "linecolor": "#A2B1C6",
            "ticks": ""
           },
           "baxis": {
            "gridcolor": "#DFE8F3",
            "linecolor": "#A2B1C6",
            "ticks": ""
           },
           "bgcolor": "white",
           "caxis": {
            "gridcolor": "#DFE8F3",
            "linecolor": "#A2B1C6",
            "ticks": ""
           }
          },
          "title": {
           "x": 0.05
          },
          "xaxis": {
           "automargin": true,
           "gridcolor": "#EBF0F8",
           "linecolor": "#EBF0F8",
           "ticks": "",
           "title": {
            "standoff": 15
           },
           "zerolinecolor": "#EBF0F8",
           "zerolinewidth": 2
          },
          "yaxis": {
           "automargin": true,
           "gridcolor": "#EBF0F8",
           "linecolor": "#EBF0F8",
           "ticks": "",
           "title": {
            "standoff": 15
           },
           "zerolinecolor": "#EBF0F8",
           "zerolinewidth": 2
          }
         }
        },
        "title": {
         "text": "Median Hourly Pay Rate Across the United States",
         "x": 0.5
        }
       }
      }
     },
     "metadata": {},
     "output_type": "display_data"
    }
   ],
   "source": [
    "# 4. Pay Rate Analysis by Location\n",
    "\n",
    "# Define US regions for coloring using the 6 regions\n",
    "regions = {\n",
    "    'New England': ['CT', 'ME', 'MA', 'NH', 'RI', 'VT'],\n",
    "    'Mid-Atlantic': ['DC', 'DE', 'MD', 'NJ', 'NY', 'PA'],\n",
    "    'South': ['AL', 'AR', 'FL', 'GA', 'KY', 'LA', 'MS', 'NC', 'SC', 'TN', 'VA', 'WV'],\n",
    "    'Midwest': ['IL', 'IN', 'IA', 'KS', 'MI', 'MN', 'MO', 'NE', 'ND', 'OH', 'SD', 'WI'],\n",
    "    'Southwest': ['AZ', 'NM', 'OK', 'TX'],\n",
    "    'West': ['AK', 'CA', 'CO', 'HI', 'ID', 'MT', 'NV', 'OR', 'UT', 'WA', 'WY']\n",
    "}\n",
    "\n",
    "def get_region(state_id):\n",
    "    for region, states in regions.items():\n",
    "        if state_id in states:\n",
    "            return region\n",
    "    return 'Other'\n",
    "\n",
    "# Group by state and calculate the median hourly rate and job count\n",
    "state_pay = df_with_rates.groupby(['state', 'state_id']).agg(\n",
    "    median_hourly_rate=('rate_hourly', 'median'),\n",
    "    job_count=('job_id', 'count')\n",
    ").sort_values(by='median_hourly_rate', ascending=False).reset_index()\n",
    "\n",
    "# Add region information\n",
    "state_pay['region'] = state_pay['state_id'].apply(get_region)\n",
    "\n",
    "# Define a clear color map for the 6 regions\n",
    "color_map = {\n",
    "    'New England': '#a6cee3',\n",
    "    'Mid-Atlantic': '#1f78b4',\n",
    "    'South': '#b2df8a',\n",
    "    'Midwest': '#33a02c',\n",
    "    'Southwest': '#fb9a99',\n",
    "    'West': '#e31a1c'\n",
    "}\n",
    "\n",
    "print(\"Median Hourly Rate by State\")\n",
    "display(state_pay)\n",
    "\n",
    "# Horizontal Bar Chart for States\n",
    "fig_bar = px.bar(\n",
    "    state_pay,\n",
    "    y='state',\n",
    "    x='median_hourly_rate',\n",
    "    orientation='h',\n",
    "    title='Median Hourly Pay Rate by State, Colored by Region',\n",
    "    labels={'state': '', 'median_hourly_rate': 'Median Hourly Rate (USD)'},\n",
    "    color='region',\n",
    "    color_discrete_map=color_map\n",
    ")\n",
    "\n",
    "fig_bar.update_layout(\n",
    "    showlegend=True, \n",
    "    yaxis={'categoryorder':'total ascending'},\n",
    "    height=800, # Increase height to accommodate all states\n",
    "    legend_title_text='Region'\n",
    ")\n",
    "fig_bar.show()\n",
    "\n",
    "# Choropleth Map\n",
    "fig_map = px.choropleth(\n",
    "    state_pay,\n",
    "    locations='state_id',\n",
    "    locationmode=\"USA-states\",\n",
    "    color='median_hourly_rate',\n",
    "    scope=\"usa\",\n",
    "    hover_name='state',\n",
    "    hover_data={'state_id': False, 'median_hourly_rate': ':.2f', 'job_count': True},\n",
    "    title='Median Hourly Pay Rate Across the United States',\n",
    "    color_continuous_scale=px.colors.sequential.Blues,\n",
    "    labels={'median_hourly_rate': 'Median Hourly Rate', 'job_count': 'Job Count'}\n",
    ")\n",
    "fig_map.update_layout(title_x=0.5)\n",
    "fig_map.show()\n",
    "\n"
   ]
  },
  {
   "cell_type": "code",
   "execution_count": null,
   "id": "5c9d0a9a",
   "metadata": {},
   "outputs": [],
   "source": [
    "\n"
   ]
  }
 ],
 "metadata": {
  "kernelspec": {
   "display_name": "Python 3",
   "language": "python",
   "name": "python3"
  },
  "language_info": {
   "codemirror_mode": {
    "name": "ipython",
    "version": 3
   },
   "file_extension": ".py",
   "mimetype": "text/x-python",
   "name": "python",
   "nbconvert_exporter": "python",
   "pygments_lexer": "ipython3",
   "version": "3.9.6"
  }
 },
 "nbformat": 4,
 "nbformat_minor": 5
}
