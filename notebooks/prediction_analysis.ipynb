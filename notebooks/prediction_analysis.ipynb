{
  "cells": [
    {
      "cell_type": "markdown",
      "metadata": {},
      "source": [
        "# Prediction Analysis & Confidence Intervals\n",
        "\n",
        "This notebook visualizes the performance of our trained model on the unseen test data. "
      ]
    },
    {
      "cell_type": "code",
      "execution_count": null,
      "metadata": {},
      "outputs": [
        {
          "name": "stdout",
          "output_type": "stream",
          "text": [
            "Successfully loaded model and test data.\n"
          ]
        }
      ],
      "source": [
        "# Load Artifacts & Setup\n",
        "import os\n",
        "import joblib\n",
        "import pandas as pd\n",
        "import numpy as np\n",
        "import plotly.express as px\n",
        "import plotly.graph_objects as go\n",
        "\n",
        "# Define paths\n",
        "MODEL_PATH = os.path.join('..', 'models', 'random_forest_model.joblib')\n",
        "X_TEST_PATH = os.path.join('..', 'models', 'X_test.parquet')\n",
        "Y_TEST_PATH = os.path.join('..', 'models', 'y_test.parquet')\n",
        "\n",
        "# Load the saved model and test data\n",
        "try:\n",
        "    model = joblib.load(MODEL_PATH)\n",
        "    X_test = pd.read_parquet(X_TEST_PATH)\n",
        "    y_test = pd.read_parquet(Y_TEST_PATH)\n",
        "    print(\"Successfully loaded model and test data.\")\n",
        "except FileNotFoundError as e:\n",
        "    print(f\"Error: {e}\")\n",
        "    print(\"Please run `src/modeling.py` first to generate the model artifacts.\")\n",
        "    model = None\n",
        "    X_test = pd.DataFrame()\n",
        "    y_test = pd.DataFrame()\n"
      ]
    },
    {
      "cell_type": "code",
      "execution_count": null,
      "metadata": {},
      "outputs": [
        {
          "name": "stdout",
          "output_type": "stream",
          "text": [
            "Calculating prediction intervals...\n",
            "Calculation complete.\n"
          ]
        },
        {
          "name": "stderr",
          "output_type": "stream",
          "text": [
            "/Users/andresperez/Library/Python/3.9/lib/python/site-packages/sklearn/utils/validation.py:2732: UserWarning: X has feature names, but DecisionTreeRegressor was fitted without feature names\n",
            "  warnings.warn(\n",
            "/Users/andresperez/Library/Python/3.9/lib/python/site-packages/sklearn/utils/validation.py:2732: UserWarning: X has feature names, but DecisionTreeRegressor was fitted without feature names\n",
            "  warnings.warn(\n",
            "/Users/andresperez/Library/Python/3.9/lib/python/site-packages/sklearn/utils/validation.py:2732: UserWarning: X has feature names, but DecisionTreeRegressor was fitted without feature names\n",
            "  warnings.warn(\n",
            "/Users/andresperez/Library/Python/3.9/lib/python/site-packages/sklearn/utils/validation.py:2732: UserWarning: X has feature names, but DecisionTreeRegressor was fitted without feature names\n",
            "  warnings.warn(\n",
            "/Users/andresperez/Library/Python/3.9/lib/python/site-packages/sklearn/utils/validation.py:2732: UserWarning: X has feature names, but DecisionTreeRegressor was fitted without feature names\n",
            "  warnings.warn(\n",
            "/Users/andresperez/Library/Python/3.9/lib/python/site-packages/sklearn/utils/validation.py:2732: UserWarning: X has feature names, but DecisionTreeRegressor was fitted without feature names\n",
            "  warnings.warn(\n",
            "/Users/andresperez/Library/Python/3.9/lib/python/site-packages/sklearn/utils/validation.py:2732: UserWarning: X has feature names, but DecisionTreeRegressor was fitted without feature names\n",
            "  warnings.warn(\n",
            "/Users/andresperez/Library/Python/3.9/lib/python/site-packages/sklearn/utils/validation.py:2732: UserWarning: X has feature names, but DecisionTreeRegressor was fitted without feature names\n",
            "  warnings.warn(\n",
            "/Users/andresperez/Library/Python/3.9/lib/python/site-packages/sklearn/utils/validation.py:2732: UserWarning: X has feature names, but DecisionTreeRegressor was fitted without feature names\n",
            "  warnings.warn(\n",
            "/Users/andresperez/Library/Python/3.9/lib/python/site-packages/sklearn/utils/validation.py:2732: UserWarning: X has feature names, but DecisionTreeRegressor was fitted without feature names\n",
            "  warnings.warn(\n",
            "/Users/andresperez/Library/Python/3.9/lib/python/site-packages/sklearn/utils/validation.py:2732: UserWarning: X has feature names, but DecisionTreeRegressor was fitted without feature names\n",
            "  warnings.warn(\n",
            "/Users/andresperez/Library/Python/3.9/lib/python/site-packages/sklearn/utils/validation.py:2732: UserWarning: X has feature names, but DecisionTreeRegressor was fitted without feature names\n",
            "  warnings.warn(\n",
            "/Users/andresperez/Library/Python/3.9/lib/python/site-packages/sklearn/utils/validation.py:2732: UserWarning: X has feature names, but DecisionTreeRegressor was fitted without feature names\n",
            "  warnings.warn(\n",
            "/Users/andresperez/Library/Python/3.9/lib/python/site-packages/sklearn/utils/validation.py:2732: UserWarning: X has feature names, but DecisionTreeRegressor was fitted without feature names\n",
            "  warnings.warn(\n",
            "/Users/andresperez/Library/Python/3.9/lib/python/site-packages/sklearn/utils/validation.py:2732: UserWarning: X has feature names, but DecisionTreeRegressor was fitted without feature names\n",
            "  warnings.warn(\n",
            "/Users/andresperez/Library/Python/3.9/lib/python/site-packages/sklearn/utils/validation.py:2732: UserWarning: X has feature names, but DecisionTreeRegressor was fitted without feature names\n",
            "  warnings.warn(\n",
            "/Users/andresperez/Library/Python/3.9/lib/python/site-packages/sklearn/utils/validation.py:2732: UserWarning: X has feature names, but DecisionTreeRegressor was fitted without feature names\n",
            "  warnings.warn(\n",
            "/Users/andresperez/Library/Python/3.9/lib/python/site-packages/sklearn/utils/validation.py:2732: UserWarning: X has feature names, but DecisionTreeRegressor was fitted without feature names\n",
            "  warnings.warn(\n",
            "/Users/andresperez/Library/Python/3.9/lib/python/site-packages/sklearn/utils/validation.py:2732: UserWarning: X has feature names, but DecisionTreeRegressor was fitted without feature names\n",
            "  warnings.warn(\n",
            "/Users/andresperez/Library/Python/3.9/lib/python/site-packages/sklearn/utils/validation.py:2732: UserWarning: X has feature names, but DecisionTreeRegressor was fitted without feature names\n",
            "  warnings.warn(\n",
            "/Users/andresperez/Library/Python/3.9/lib/python/site-packages/sklearn/utils/validation.py:2732: UserWarning: X has feature names, but DecisionTreeRegressor was fitted without feature names\n",
            "  warnings.warn(\n",
            "/Users/andresperez/Library/Python/3.9/lib/python/site-packages/sklearn/utils/validation.py:2732: UserWarning: X has feature names, but DecisionTreeRegressor was fitted without feature names\n",
            "  warnings.warn(\n",
            "/Users/andresperez/Library/Python/3.9/lib/python/site-packages/sklearn/utils/validation.py:2732: UserWarning: X has feature names, but DecisionTreeRegressor was fitted without feature names\n",
            "  warnings.warn(\n",
            "/Users/andresperez/Library/Python/3.9/lib/python/site-packages/sklearn/utils/validation.py:2732: UserWarning: X has feature names, but DecisionTreeRegressor was fitted without feature names\n",
            "  warnings.warn(\n",
            "/Users/andresperez/Library/Python/3.9/lib/python/site-packages/sklearn/utils/validation.py:2732: UserWarning: X has feature names, but DecisionTreeRegressor was fitted without feature names\n",
            "  warnings.warn(\n",
            "/Users/andresperez/Library/Python/3.9/lib/python/site-packages/sklearn/utils/validation.py:2732: UserWarning: X has feature names, but DecisionTreeRegressor was fitted without feature names\n",
            "  warnings.warn(\n",
            "/Users/andresperez/Library/Python/3.9/lib/python/site-packages/sklearn/utils/validation.py:2732: UserWarning: X has feature names, but DecisionTreeRegressor was fitted without feature names\n",
            "  warnings.warn(\n",
            "/Users/andresperez/Library/Python/3.9/lib/python/site-packages/sklearn/utils/validation.py:2732: UserWarning: X has feature names, but DecisionTreeRegressor was fitted without feature names\n",
            "  warnings.warn(\n",
            "/Users/andresperez/Library/Python/3.9/lib/python/site-packages/sklearn/utils/validation.py:2732: UserWarning: X has feature names, but DecisionTreeRegressor was fitted without feature names\n",
            "  warnings.warn(\n",
            "/Users/andresperez/Library/Python/3.9/lib/python/site-packages/sklearn/utils/validation.py:2732: UserWarning: X has feature names, but DecisionTreeRegressor was fitted without feature names\n",
            "  warnings.warn(\n",
            "/Users/andresperez/Library/Python/3.9/lib/python/site-packages/sklearn/utils/validation.py:2732: UserWarning: X has feature names, but DecisionTreeRegressor was fitted without feature names\n",
            "  warnings.warn(\n",
            "/Users/andresperez/Library/Python/3.9/lib/python/site-packages/sklearn/utils/validation.py:2732: UserWarning: X has feature names, but DecisionTreeRegressor was fitted without feature names\n",
            "  warnings.warn(\n",
            "/Users/andresperez/Library/Python/3.9/lib/python/site-packages/sklearn/utils/validation.py:2732: UserWarning: X has feature names, but DecisionTreeRegressor was fitted without feature names\n",
            "  warnings.warn(\n",
            "/Users/andresperez/Library/Python/3.9/lib/python/site-packages/sklearn/utils/validation.py:2732: UserWarning: X has feature names, but DecisionTreeRegressor was fitted without feature names\n",
            "  warnings.warn(\n",
            "/Users/andresperez/Library/Python/3.9/lib/python/site-packages/sklearn/utils/validation.py:2732: UserWarning: X has feature names, but DecisionTreeRegressor was fitted without feature names\n",
            "  warnings.warn(\n",
            "/Users/andresperez/Library/Python/3.9/lib/python/site-packages/sklearn/utils/validation.py:2732: UserWarning: X has feature names, but DecisionTreeRegressor was fitted without feature names\n",
            "  warnings.warn(\n",
            "/Users/andresperez/Library/Python/3.9/lib/python/site-packages/sklearn/utils/validation.py:2732: UserWarning: X has feature names, but DecisionTreeRegressor was fitted without feature names\n",
            "  warnings.warn(\n",
            "/Users/andresperez/Library/Python/3.9/lib/python/site-packages/sklearn/utils/validation.py:2732: UserWarning: X has feature names, but DecisionTreeRegressor was fitted without feature names\n",
            "  warnings.warn(\n",
            "/Users/andresperez/Library/Python/3.9/lib/python/site-packages/sklearn/utils/validation.py:2732: UserWarning: X has feature names, but DecisionTreeRegressor was fitted without feature names\n",
            "  warnings.warn(\n",
            "/Users/andresperez/Library/Python/3.9/lib/python/site-packages/sklearn/utils/validation.py:2732: UserWarning: X has feature names, but DecisionTreeRegressor was fitted without feature names\n",
            "  warnings.warn(\n",
            "/Users/andresperez/Library/Python/3.9/lib/python/site-packages/sklearn/utils/validation.py:2732: UserWarning: X has feature names, but DecisionTreeRegressor was fitted without feature names\n",
            "  warnings.warn(\n",
            "/Users/andresperez/Library/Python/3.9/lib/python/site-packages/sklearn/utils/validation.py:2732: UserWarning: X has feature names, but DecisionTreeRegressor was fitted without feature names\n",
            "  warnings.warn(\n",
            "/Users/andresperez/Library/Python/3.9/lib/python/site-packages/sklearn/utils/validation.py:2732: UserWarning: X has feature names, but DecisionTreeRegressor was fitted without feature names\n",
            "  warnings.warn(\n",
            "/Users/andresperez/Library/Python/3.9/lib/python/site-packages/sklearn/utils/validation.py:2732: UserWarning: X has feature names, but DecisionTreeRegressor was fitted without feature names\n",
            "  warnings.warn(\n",
            "/Users/andresperez/Library/Python/3.9/lib/python/site-packages/sklearn/utils/validation.py:2732: UserWarning: X has feature names, but DecisionTreeRegressor was fitted without feature names\n",
            "  warnings.warn(\n",
            "/Users/andresperez/Library/Python/3.9/lib/python/site-packages/sklearn/utils/validation.py:2732: UserWarning: X has feature names, but DecisionTreeRegressor was fitted without feature names\n",
            "  warnings.warn(\n",
            "/Users/andresperez/Library/Python/3.9/lib/python/site-packages/sklearn/utils/validation.py:2732: UserWarning: X has feature names, but DecisionTreeRegressor was fitted without feature names\n",
            "  warnings.warn(\n",
            "/Users/andresperez/Library/Python/3.9/lib/python/site-packages/sklearn/utils/validation.py:2732: UserWarning: X has feature names, but DecisionTreeRegressor was fitted without feature names\n",
            "  warnings.warn(\n",
            "/Users/andresperez/Library/Python/3.9/lib/python/site-packages/sklearn/utils/validation.py:2732: UserWarning: X has feature names, but DecisionTreeRegressor was fitted without feature names\n",
            "  warnings.warn(\n",
            "/Users/andresperez/Library/Python/3.9/lib/python/site-packages/sklearn/utils/validation.py:2732: UserWarning: X has feature names, but DecisionTreeRegressor was fitted without feature names\n",
            "  warnings.warn(\n",
            "/Users/andresperez/Library/Python/3.9/lib/python/site-packages/sklearn/utils/validation.py:2732: UserWarning: X has feature names, but DecisionTreeRegressor was fitted without feature names\n",
            "  warnings.warn(\n",
            "/Users/andresperez/Library/Python/3.9/lib/python/site-packages/sklearn/utils/validation.py:2732: UserWarning: X has feature names, but DecisionTreeRegressor was fitted without feature names\n",
            "  warnings.warn(\n",
            "/Users/andresperez/Library/Python/3.9/lib/python/site-packages/sklearn/utils/validation.py:2732: UserWarning: X has feature names, but DecisionTreeRegressor was fitted without feature names\n",
            "  warnings.warn(\n",
            "/Users/andresperez/Library/Python/3.9/lib/python/site-packages/sklearn/utils/validation.py:2732: UserWarning: X has feature names, but DecisionTreeRegressor was fitted without feature names\n",
            "  warnings.warn(\n",
            "/Users/andresperez/Library/Python/3.9/lib/python/site-packages/sklearn/utils/validation.py:2732: UserWarning: X has feature names, but DecisionTreeRegressor was fitted without feature names\n",
            "  warnings.warn(\n",
            "/Users/andresperez/Library/Python/3.9/lib/python/site-packages/sklearn/utils/validation.py:2732: UserWarning: X has feature names, but DecisionTreeRegressor was fitted without feature names\n",
            "  warnings.warn(\n",
            "/Users/andresperez/Library/Python/3.9/lib/python/site-packages/sklearn/utils/validation.py:2732: UserWarning: X has feature names, but DecisionTreeRegressor was fitted without feature names\n",
            "  warnings.warn(\n",
            "/Users/andresperez/Library/Python/3.9/lib/python/site-packages/sklearn/utils/validation.py:2732: UserWarning: X has feature names, but DecisionTreeRegressor was fitted without feature names\n",
            "  warnings.warn(\n",
            "/Users/andresperez/Library/Python/3.9/lib/python/site-packages/sklearn/utils/validation.py:2732: UserWarning: X has feature names, but DecisionTreeRegressor was fitted without feature names\n",
            "  warnings.warn(\n",
            "/Users/andresperez/Library/Python/3.9/lib/python/site-packages/sklearn/utils/validation.py:2732: UserWarning: X has feature names, but DecisionTreeRegressor was fitted without feature names\n",
            "  warnings.warn(\n",
            "/Users/andresperez/Library/Python/3.9/lib/python/site-packages/sklearn/utils/validation.py:2732: UserWarning: X has feature names, but DecisionTreeRegressor was fitted without feature names\n",
            "  warnings.warn(\n",
            "/Users/andresperez/Library/Python/3.9/lib/python/site-packages/sklearn/utils/validation.py:2732: UserWarning: X has feature names, but DecisionTreeRegressor was fitted without feature names\n",
            "  warnings.warn(\n",
            "/Users/andresperez/Library/Python/3.9/lib/python/site-packages/sklearn/utils/validation.py:2732: UserWarning: X has feature names, but DecisionTreeRegressor was fitted without feature names\n",
            "  warnings.warn(\n",
            "/Users/andresperez/Library/Python/3.9/lib/python/site-packages/sklearn/utils/validation.py:2732: UserWarning: X has feature names, but DecisionTreeRegressor was fitted without feature names\n",
            "  warnings.warn(\n",
            "/Users/andresperez/Library/Python/3.9/lib/python/site-packages/sklearn/utils/validation.py:2732: UserWarning: X has feature names, but DecisionTreeRegressor was fitted without feature names\n",
            "  warnings.warn(\n",
            "/Users/andresperez/Library/Python/3.9/lib/python/site-packages/sklearn/utils/validation.py:2732: UserWarning: X has feature names, but DecisionTreeRegressor was fitted without feature names\n",
            "  warnings.warn(\n",
            "/Users/andresperez/Library/Python/3.9/lib/python/site-packages/sklearn/utils/validation.py:2732: UserWarning: X has feature names, but DecisionTreeRegressor was fitted without feature names\n",
            "  warnings.warn(\n",
            "/Users/andresperez/Library/Python/3.9/lib/python/site-packages/sklearn/utils/validation.py:2732: UserWarning: X has feature names, but DecisionTreeRegressor was fitted without feature names\n",
            "  warnings.warn(\n",
            "/Users/andresperez/Library/Python/3.9/lib/python/site-packages/sklearn/utils/validation.py:2732: UserWarning: X has feature names, but DecisionTreeRegressor was fitted without feature names\n",
            "  warnings.warn(\n",
            "/Users/andresperez/Library/Python/3.9/lib/python/site-packages/sklearn/utils/validation.py:2732: UserWarning: X has feature names, but DecisionTreeRegressor was fitted without feature names\n",
            "  warnings.warn(\n",
            "/Users/andresperez/Library/Python/3.9/lib/python/site-packages/sklearn/utils/validation.py:2732: UserWarning: X has feature names, but DecisionTreeRegressor was fitted without feature names\n",
            "  warnings.warn(\n",
            "/Users/andresperez/Library/Python/3.9/lib/python/site-packages/sklearn/utils/validation.py:2732: UserWarning: X has feature names, but DecisionTreeRegressor was fitted without feature names\n",
            "  warnings.warn(\n",
            "/Users/andresperez/Library/Python/3.9/lib/python/site-packages/sklearn/utils/validation.py:2732: UserWarning: X has feature names, but DecisionTreeRegressor was fitted without feature names\n",
            "  warnings.warn(\n",
            "/Users/andresperez/Library/Python/3.9/lib/python/site-packages/sklearn/utils/validation.py:2732: UserWarning: X has feature names, but DecisionTreeRegressor was fitted without feature names\n",
            "  warnings.warn(\n",
            "/Users/andresperez/Library/Python/3.9/lib/python/site-packages/sklearn/utils/validation.py:2732: UserWarning: X has feature names, but DecisionTreeRegressor was fitted without feature names\n",
            "  warnings.warn(\n",
            "/Users/andresperez/Library/Python/3.9/lib/python/site-packages/sklearn/utils/validation.py:2732: UserWarning: X has feature names, but DecisionTreeRegressor was fitted without feature names\n",
            "  warnings.warn(\n",
            "/Users/andresperez/Library/Python/3.9/lib/python/site-packages/sklearn/utils/validation.py:2732: UserWarning: X has feature names, but DecisionTreeRegressor was fitted without feature names\n",
            "  warnings.warn(\n",
            "/Users/andresperez/Library/Python/3.9/lib/python/site-packages/sklearn/utils/validation.py:2732: UserWarning: X has feature names, but DecisionTreeRegressor was fitted without feature names\n",
            "  warnings.warn(\n",
            "/Users/andresperez/Library/Python/3.9/lib/python/site-packages/sklearn/utils/validation.py:2732: UserWarning: X has feature names, but DecisionTreeRegressor was fitted without feature names\n",
            "  warnings.warn(\n",
            "/Users/andresperez/Library/Python/3.9/lib/python/site-packages/sklearn/utils/validation.py:2732: UserWarning: X has feature names, but DecisionTreeRegressor was fitted without feature names\n",
            "  warnings.warn(\n",
            "/Users/andresperez/Library/Python/3.9/lib/python/site-packages/sklearn/utils/validation.py:2732: UserWarning: X has feature names, but DecisionTreeRegressor was fitted without feature names\n",
            "  warnings.warn(\n",
            "/Users/andresperez/Library/Python/3.9/lib/python/site-packages/sklearn/utils/validation.py:2732: UserWarning: X has feature names, but DecisionTreeRegressor was fitted without feature names\n",
            "  warnings.warn(\n",
            "/Users/andresperez/Library/Python/3.9/lib/python/site-packages/sklearn/utils/validation.py:2732: UserWarning: X has feature names, but DecisionTreeRegressor was fitted without feature names\n",
            "  warnings.warn(\n",
            "/Users/andresperez/Library/Python/3.9/lib/python/site-packages/sklearn/utils/validation.py:2732: UserWarning: X has feature names, but DecisionTreeRegressor was fitted without feature names\n",
            "  warnings.warn(\n",
            "/Users/andresperez/Library/Python/3.9/lib/python/site-packages/sklearn/utils/validation.py:2732: UserWarning: X has feature names, but DecisionTreeRegressor was fitted without feature names\n",
            "  warnings.warn(\n",
            "/Users/andresperez/Library/Python/3.9/lib/python/site-packages/sklearn/utils/validation.py:2732: UserWarning: X has feature names, but DecisionTreeRegressor was fitted without feature names\n",
            "  warnings.warn(\n",
            "/Users/andresperez/Library/Python/3.9/lib/python/site-packages/sklearn/utils/validation.py:2732: UserWarning: X has feature names, but DecisionTreeRegressor was fitted without feature names\n",
            "  warnings.warn(\n",
            "/Users/andresperez/Library/Python/3.9/lib/python/site-packages/sklearn/utils/validation.py:2732: UserWarning: X has feature names, but DecisionTreeRegressor was fitted without feature names\n",
            "  warnings.warn(\n",
            "/Users/andresperez/Library/Python/3.9/lib/python/site-packages/sklearn/utils/validation.py:2732: UserWarning: X has feature names, but DecisionTreeRegressor was fitted without feature names\n",
            "  warnings.warn(\n",
            "/Users/andresperez/Library/Python/3.9/lib/python/site-packages/sklearn/utils/validation.py:2732: UserWarning: X has feature names, but DecisionTreeRegressor was fitted without feature names\n",
            "  warnings.warn(\n",
            "/Users/andresperez/Library/Python/3.9/lib/python/site-packages/sklearn/utils/validation.py:2732: UserWarning: X has feature names, but DecisionTreeRegressor was fitted without feature names\n",
            "  warnings.warn(\n",
            "/Users/andresperez/Library/Python/3.9/lib/python/site-packages/sklearn/utils/validation.py:2732: UserWarning: X has feature names, but DecisionTreeRegressor was fitted without feature names\n",
            "  warnings.warn(\n",
            "/Users/andresperez/Library/Python/3.9/lib/python/site-packages/sklearn/utils/validation.py:2732: UserWarning: X has feature names, but DecisionTreeRegressor was fitted without feature names\n",
            "  warnings.warn(\n",
            "/Users/andresperez/Library/Python/3.9/lib/python/site-packages/sklearn/utils/validation.py:2732: UserWarning: X has feature names, but DecisionTreeRegressor was fitted without feature names\n",
            "  warnings.warn(\n",
            "/Users/andresperez/Library/Python/3.9/lib/python/site-packages/sklearn/utils/validation.py:2732: UserWarning: X has feature names, but DecisionTreeRegressor was fitted without feature names\n",
            "  warnings.warn(\n",
            "/Users/andresperez/Library/Python/3.9/lib/python/site-packages/sklearn/utils/validation.py:2732: UserWarning: X has feature names, but DecisionTreeRegressor was fitted without feature names\n",
            "  warnings.warn(\n",
            "/Users/andresperez/Library/Python/3.9/lib/python/site-packages/sklearn/utils/validation.py:2732: UserWarning: X has feature names, but DecisionTreeRegressor was fitted without feature names\n",
            "  warnings.warn(\n",
            "/Users/andresperez/Library/Python/3.9/lib/python/site-packages/sklearn/utils/validation.py:2732: UserWarning: X has feature names, but DecisionTreeRegressor was fitted without feature names\n",
            "  warnings.warn(\n",
            "/Users/andresperez/Library/Python/3.9/lib/python/site-packages/sklearn/utils/validation.py:2732: UserWarning: X has feature names, but DecisionTreeRegressor was fitted without feature names\n",
            "  warnings.warn(\n",
            "/Users/andresperez/Library/Python/3.9/lib/python/site-packages/sklearn/utils/validation.py:2732: UserWarning: X has feature names, but DecisionTreeRegressor was fitted without feature names\n",
            "  warnings.warn(\n"
          ]
        },
        {
          "data": {
            "text/html": [
              "<div>\n",
              "<style scoped>\n",
              "    .dataframe tbody tr th:only-of-type {\n",
              "        vertical-align: middle;\n",
              "    }\n",
              "\n",
              "    .dataframe tbody tr th {\n",
              "        vertical-align: top;\n",
              "    }\n",
              "\n",
              "    .dataframe thead th {\n",
              "        text-align: right;\n",
              "    }\n",
              "</style>\n",
              "<table border=\"1\" class=\"dataframe\">\n",
              "  <thead>\n",
              "    <tr style=\"text-align: right;\">\n",
              "      <th></th>\n",
              "      <th>actual_rate</th>\n",
              "      <th>predicted_rate</th>\n",
              "      <th>lower_bound</th>\n",
              "      <th>upper_bound</th>\n",
              "    </tr>\n",
              "  </thead>\n",
              "  <tbody>\n",
              "    <tr>\n",
              "      <th>0</th>\n",
              "      <td>400.0</td>\n",
              "      <td>445.000000</td>\n",
              "      <td>400.0</td>\n",
              "      <td>500.0</td>\n",
              "    </tr>\n",
              "    <tr>\n",
              "      <th>1</th>\n",
              "      <td>200.0</td>\n",
              "      <td>265.530952</td>\n",
              "      <td>200.0</td>\n",
              "      <td>300.0</td>\n",
              "    </tr>\n",
              "    <tr>\n",
              "      <th>2</th>\n",
              "      <td>400.0</td>\n",
              "      <td>399.000000</td>\n",
              "      <td>400.0</td>\n",
              "      <td>400.0</td>\n",
              "    </tr>\n",
              "    <tr>\n",
              "      <th>3</th>\n",
              "      <td>350.0</td>\n",
              "      <td>407.500000</td>\n",
              "      <td>400.0</td>\n",
              "      <td>450.0</td>\n",
              "    </tr>\n",
              "    <tr>\n",
              "      <th>4</th>\n",
              "      <td>400.0</td>\n",
              "      <td>413.500000</td>\n",
              "      <td>350.0</td>\n",
              "      <td>500.0</td>\n",
              "    </tr>\n",
              "  </tbody>\n",
              "</table>\n",
              "</div>"
            ],
            "text/plain": [
              "   actual_rate  predicted_rate  lower_bound  upper_bound\n",
              "0        400.0      445.000000        400.0        500.0\n",
              "1        200.0      265.530952        200.0        300.0\n",
              "2        400.0      399.000000        400.0        400.0\n",
              "3        350.0      407.500000        400.0        450.0\n",
              "4        400.0      413.500000        350.0        500.0"
            ]
          },
          "metadata": {},
          "output_type": "display_data"
        }
      ],
      "source": [
        "# Calculate Prediction Intervals\n",
        "\n",
        "def get_prediction_intervals(model, X_test, percentile=90):\n",
        "    \"\"\"\n",
        "    Calculates prediction intervals for a RandomForestRegressor model.\n",
        "    \"\"\"\n",
        "    print(\"Calculating prediction intervals...\")\n",
        "    # Get the predictions from each individual tree in the forest\n",
        "    individual_tree_preds = [tree.predict(X_test) for tree in model.estimators_]\n",
        "    preds_array = np.stack(individual_tree_preds)\n",
        "    \n",
        "    # Calculate the lower and upper bounds of the interval\n",
        "    lower_percentile = (100 - percentile) / 2\n",
        "    upper_percentile = 100 - lower_percentile\n",
        "    \n",
        "    lower_bound = np.percentile(preds_array, lower_percentile, axis=0)\n",
        "    upper_bound = np.percentile(preds_array, upper_percentile, axis=0)\n",
        "    \n",
        "    # Get the main prediction (mean of all tree predictions)\n",
        "    mean_prediction = preds_array.mean(axis=0)\n",
        "    \n",
        "    results_df = pd.DataFrame({\n",
        "        'predicted_rate': mean_prediction,\n",
        "        'lower_bound': lower_bound,\n",
        "        'upper_bound': upper_bound\n",
        "    })\n",
        "    \n",
        "    print(\"Calculation complete.\")\n",
        "    return results_df\n",
        "\n",
        "if model:\n",
        "    prediction_results = get_prediction_intervals(model, X_test)\n",
        "    \n",
        "    # Combine with the actual values for plotting\n",
        "    final_df = pd.concat([\n",
        "        y_test.reset_index(drop=True),\n",
        "        prediction_results.reset_index(drop=True)\n",
        "    ], axis=1)\n",
        "    \n",
        "    final_df = final_df.rename(columns={'rate_hourly': 'actual_rate'})\n",
        "    \n",
        "    display(final_df.head())\n"
      ]
    },
    {
      "cell_type": "code",
      "execution_count": null,
      "metadata": {},
      "outputs": [
        {
          "name": "stderr",
          "output_type": "stream",
          "text": [
            "/var/folders/9m/w6ym2k7d3f5cv8cgqnyhwzlh0000gn/T/ipykernel_13091/3106761671.py:19: FutureWarning:\n",
            "\n",
            "The default of observed=False is deprecated and will be changed to True in a future version of pandas. Pass observed=False to retain current behavior or observed=True to adopt the future default and silence this warning.\n",
            "\n"
          ]
        },
        {
          "data": {
            "application/vnd.plotly.v1+json": {
              "config": {
                "plotlyServerURL": "https://plot.ly"
              },
              "data": [
                {
                  "alignmentgroup": "True",
                  "hovertemplate": "Rate Type=Actual Rate<br>Actual Hourly Rate Bins (USD)=%{x}<br>Hourly Rate (USD)=%{y}<extra></extra>",
                  "legendgroup": "Actual Rate",
                  "marker": {
                    "color": "#636efa",
                    "pattern": {
                      "shape": ""
                    }
                  },
                  "name": "Actual Rate",
                  "offsetgroup": "Actual Rate",
                  "orientation": "v",
                  "showlegend": true,
                  "textposition": "auto",
                  "type": "bar",
                  "x": [
                    "$100 - $150",
                    "$150 - $200",
                    "$200 - $250",
                    "$250 - $300",
                    "$300 - $350",
                    "$350 - $400",
                    "$400 - $450",
                    "$450 - $500"
                  ],
                  "xaxis": "x",
                  "y": {
                    "bdata": "AAAAAABAX0AAAAAAAOBlQAAAAAAAIGxAAAAAAAAwcUAAAAAAAFB0QAAAAAAAcHdAAAAAAACQekAAAAAAALB9QA==",
                    "dtype": "f8"
                  },
                  "yaxis": "y"
                },
                {
                  "alignmentgroup": "True",
                  "hovertemplate": "Rate Type=Predicted Rate<br>Actual Hourly Rate Bins (USD)=%{x}<br>Hourly Rate (USD)=%{y}<extra></extra>",
                  "legendgroup": "Predicted Rate",
                  "marker": {
                    "color": "#EF553B",
                    "pattern": {
                      "shape": ""
                    }
                  },
                  "name": "Predicted Rate",
                  "offsetgroup": "Predicted Rate",
                  "orientation": "v",
                  "showlegend": true,
                  "textposition": "auto",
                  "type": "bar",
                  "x": [
                    "$100 - $150",
                    "$150 - $200",
                    "$200 - $250",
                    "$250 - $300",
                    "$300 - $350",
                    "$350 - $400",
                    "$400 - $450",
                    "$450 - $500"
                  ],
                  "xaxis": "x",
                  "y": {
                    "bdata": "zMj3W3BsX0AAAAAAAKxjQMzMzMzM3mtAAAAAAAAUcEBKkiRJknpyQJqZmZkZ43RAAAAAAAAAeUAAAAAAANB7QA==",
                    "dtype": "f8"
                  },
                  "yaxis": "y"
                }
              ],
              "layout": {
                "barmode": "group",
                "height": 600,
                "legend": {
                  "title": {},
                  "tracegroupgap": 0
                },
                "template": {
                  "data": {
                    "bar": [
                      {
                        "error_x": {
                          "color": "#2a3f5f"
                        },
                        "error_y": {
                          "color": "#2a3f5f"
                        },
                        "marker": {
                          "line": {
                            "color": "#E5ECF6",
                            "width": 0.5
                          },
                          "pattern": {
                            "fillmode": "overlay",
                            "size": 10,
                            "solidity": 0.2
                          }
                        },
                        "type": "bar"
                      }
                    ],
                    "barpolar": [
                      {
                        "marker": {
                          "line": {
                            "color": "#E5ECF6",
                            "width": 0.5
                          },
                          "pattern": {
                            "fillmode": "overlay",
                            "size": 10,
                            "solidity": 0.2
                          }
                        },
                        "type": "barpolar"
                      }
                    ],
                    "carpet": [
                      {
                        "aaxis": {
                          "endlinecolor": "#2a3f5f",
                          "gridcolor": "white",
                          "linecolor": "white",
                          "minorgridcolor": "white",
                          "startlinecolor": "#2a3f5f"
                        },
                        "baxis": {
                          "endlinecolor": "#2a3f5f",
                          "gridcolor": "white",
                          "linecolor": "white",
                          "minorgridcolor": "white",
                          "startlinecolor": "#2a3f5f"
                        },
                        "type": "carpet"
                      }
                    ],
                    "choropleth": [
                      {
                        "colorbar": {
                          "outlinewidth": 0,
                          "ticks": ""
                        },
                        "type": "choropleth"
                      }
                    ],
                    "contour": [
                      {
                        "colorbar": {
                          "outlinewidth": 0,
                          "ticks": ""
                        },
                        "colorscale": [
                          [
                            0,
                            "#0d0887"
                          ],
                          [
                            0.1111111111111111,
                            "#46039f"
                          ],
                          [
                            0.2222222222222222,
                            "#7201a8"
                          ],
                          [
                            0.3333333333333333,
                            "#9c179e"
                          ],
                          [
                            0.4444444444444444,
                            "#bd3786"
                          ],
                          [
                            0.5555555555555556,
                            "#d8576b"
                          ],
                          [
                            0.6666666666666666,
                            "#ed7953"
                          ],
                          [
                            0.7777777777777778,
                            "#fb9f3a"
                          ],
                          [
                            0.8888888888888888,
                            "#fdca26"
                          ],
                          [
                            1,
                            "#f0f921"
                          ]
                        ],
                        "type": "contour"
                      }
                    ],
                    "contourcarpet": [
                      {
                        "colorbar": {
                          "outlinewidth": 0,
                          "ticks": ""
                        },
                        "type": "contourcarpet"
                      }
                    ],
                    "heatmap": [
                      {
                        "colorbar": {
                          "outlinewidth": 0,
                          "ticks": ""
                        },
                        "colorscale": [
                          [
                            0,
                            "#0d0887"
                          ],
                          [
                            0.1111111111111111,
                            "#46039f"
                          ],
                          [
                            0.2222222222222222,
                            "#7201a8"
                          ],
                          [
                            0.3333333333333333,
                            "#9c179e"
                          ],
                          [
                            0.4444444444444444,
                            "#bd3786"
                          ],
                          [
                            0.5555555555555556,
                            "#d8576b"
                          ],
                          [
                            0.6666666666666666,
                            "#ed7953"
                          ],
                          [
                            0.7777777777777778,
                            "#fb9f3a"
                          ],
                          [
                            0.8888888888888888,
                            "#fdca26"
                          ],
                          [
                            1,
                            "#f0f921"
                          ]
                        ],
                        "type": "heatmap"
                      }
                    ],
                    "histogram": [
                      {
                        "marker": {
                          "pattern": {
                            "fillmode": "overlay",
                            "size": 10,
                            "solidity": 0.2
                          }
                        },
                        "type": "histogram"
                      }
                    ],
                    "histogram2d": [
                      {
                        "colorbar": {
                          "outlinewidth": 0,
                          "ticks": ""
                        },
                        "colorscale": [
                          [
                            0,
                            "#0d0887"
                          ],
                          [
                            0.1111111111111111,
                            "#46039f"
                          ],
                          [
                            0.2222222222222222,
                            "#7201a8"
                          ],
                          [
                            0.3333333333333333,
                            "#9c179e"
                          ],
                          [
                            0.4444444444444444,
                            "#bd3786"
                          ],
                          [
                            0.5555555555555556,
                            "#d8576b"
                          ],
                          [
                            0.6666666666666666,
                            "#ed7953"
                          ],
                          [
                            0.7777777777777778,
                            "#fb9f3a"
                          ],
                          [
                            0.8888888888888888,
                            "#fdca26"
                          ],
                          [
                            1,
                            "#f0f921"
                          ]
                        ],
                        "type": "histogram2d"
                      }
                    ],
                    "histogram2dcontour": [
                      {
                        "colorbar": {
                          "outlinewidth": 0,
                          "ticks": ""
                        },
                        "colorscale": [
                          [
                            0,
                            "#0d0887"
                          ],
                          [
                            0.1111111111111111,
                            "#46039f"
                          ],
                          [
                            0.2222222222222222,
                            "#7201a8"
                          ],
                          [
                            0.3333333333333333,
                            "#9c179e"
                          ],
                          [
                            0.4444444444444444,
                            "#bd3786"
                          ],
                          [
                            0.5555555555555556,
                            "#d8576b"
                          ],
                          [
                            0.6666666666666666,
                            "#ed7953"
                          ],
                          [
                            0.7777777777777778,
                            "#fb9f3a"
                          ],
                          [
                            0.8888888888888888,
                            "#fdca26"
                          ],
                          [
                            1,
                            "#f0f921"
                          ]
                        ],
                        "type": "histogram2dcontour"
                      }
                    ],
                    "mesh3d": [
                      {
                        "colorbar": {
                          "outlinewidth": 0,
                          "ticks": ""
                        },
                        "type": "mesh3d"
                      }
                    ],
                    "parcoords": [
                      {
                        "line": {
                          "colorbar": {
                            "outlinewidth": 0,
                            "ticks": ""
                          }
                        },
                        "type": "parcoords"
                      }
                    ],
                    "pie": [
                      {
                        "automargin": true,
                        "type": "pie"
                      }
                    ],
                    "scatter": [
                      {
                        "fillpattern": {
                          "fillmode": "overlay",
                          "size": 10,
                          "solidity": 0.2
                        },
                        "type": "scatter"
                      }
                    ],
                    "scatter3d": [
                      {
                        "line": {
                          "colorbar": {
                            "outlinewidth": 0,
                            "ticks": ""
                          }
                        },
                        "marker": {
                          "colorbar": {
                            "outlinewidth": 0,
                            "ticks": ""
                          }
                        },
                        "type": "scatter3d"
                      }
                    ],
                    "scattercarpet": [
                      {
                        "marker": {
                          "colorbar": {
                            "outlinewidth": 0,
                            "ticks": ""
                          }
                        },
                        "type": "scattercarpet"
                      }
                    ],
                    "scattergeo": [
                      {
                        "marker": {
                          "colorbar": {
                            "outlinewidth": 0,
                            "ticks": ""
                          }
                        },
                        "type": "scattergeo"
                      }
                    ],
                    "scattergl": [
                      {
                        "marker": {
                          "colorbar": {
                            "outlinewidth": 0,
                            "ticks": ""
                          }
                        },
                        "type": "scattergl"
                      }
                    ],
                    "scattermap": [
                      {
                        "marker": {
                          "colorbar": {
                            "outlinewidth": 0,
                            "ticks": ""
                          }
                        },
                        "type": "scattermap"
                      }
                    ],
                    "scattermapbox": [
                      {
                        "marker": {
                          "colorbar": {
                            "outlinewidth": 0,
                            "ticks": ""
                          }
                        },
                        "type": "scattermapbox"
                      }
                    ],
                    "scatterpolar": [
                      {
                        "marker": {
                          "colorbar": {
                            "outlinewidth": 0,
                            "ticks": ""
                          }
                        },
                        "type": "scatterpolar"
                      }
                    ],
                    "scatterpolargl": [
                      {
                        "marker": {
                          "colorbar": {
                            "outlinewidth": 0,
                            "ticks": ""
                          }
                        },
                        "type": "scatterpolargl"
                      }
                    ],
                    "scatterternary": [
                      {
                        "marker": {
                          "colorbar": {
                            "outlinewidth": 0,
                            "ticks": ""
                          }
                        },
                        "type": "scatterternary"
                      }
                    ],
                    "surface": [
                      {
                        "colorbar": {
                          "outlinewidth": 0,
                          "ticks": ""
                        },
                        "colorscale": [
                          [
                            0,
                            "#0d0887"
                          ],
                          [
                            0.1111111111111111,
                            "#46039f"
                          ],
                          [
                            0.2222222222222222,
                            "#7201a8"
                          ],
                          [
                            0.3333333333333333,
                            "#9c179e"
                          ],
                          [
                            0.4444444444444444,
                            "#bd3786"
                          ],
                          [
                            0.5555555555555556,
                            "#d8576b"
                          ],
                          [
                            0.6666666666666666,
                            "#ed7953"
                          ],
                          [
                            0.7777777777777778,
                            "#fb9f3a"
                          ],
                          [
                            0.8888888888888888,
                            "#fdca26"
                          ],
                          [
                            1,
                            "#f0f921"
                          ]
                        ],
                        "type": "surface"
                      }
                    ],
                    "table": [
                      {
                        "cells": {
                          "fill": {
                            "color": "#EBF0F8"
                          },
                          "line": {
                            "color": "white"
                          }
                        },
                        "header": {
                          "fill": {
                            "color": "#C8D4E3"
                          },
                          "line": {
                            "color": "white"
                          }
                        },
                        "type": "table"
                      }
                    ]
                  },
                  "layout": {
                    "annotationdefaults": {
                      "arrowcolor": "#2a3f5f",
                      "arrowhead": 0,
                      "arrowwidth": 1
                    },
                    "autotypenumbers": "strict",
                    "coloraxis": {
                      "colorbar": {
                        "outlinewidth": 0,
                        "ticks": ""
                      }
                    },
                    "colorscale": {
                      "diverging": [
                        [
                          0,
                          "#8e0152"
                        ],
                        [
                          0.1,
                          "#c51b7d"
                        ],
                        [
                          0.2,
                          "#de77ae"
                        ],
                        [
                          0.3,
                          "#f1b6da"
                        ],
                        [
                          0.4,
                          "#fde0ef"
                        ],
                        [
                          0.5,
                          "#f7f7f7"
                        ],
                        [
                          0.6,
                          "#e6f5d0"
                        ],
                        [
                          0.7,
                          "#b8e186"
                        ],
                        [
                          0.8,
                          "#7fbc41"
                        ],
                        [
                          0.9,
                          "#4d9221"
                        ],
                        [
                          1,
                          "#276419"
                        ]
                      ],
                      "sequential": [
                        [
                          0,
                          "#0d0887"
                        ],
                        [
                          0.1111111111111111,
                          "#46039f"
                        ],
                        [
                          0.2222222222222222,
                          "#7201a8"
                        ],
                        [
                          0.3333333333333333,
                          "#9c179e"
                        ],
                        [
                          0.4444444444444444,
                          "#bd3786"
                        ],
                        [
                          0.5555555555555556,
                          "#d8576b"
                        ],
                        [
                          0.6666666666666666,
                          "#ed7953"
                        ],
                        [
                          0.7777777777777778,
                          "#fb9f3a"
                        ],
                        [
                          0.8888888888888888,
                          "#fdca26"
                        ],
                        [
                          1,
                          "#f0f921"
                        ]
                      ],
                      "sequentialminus": [
                        [
                          0,
                          "#0d0887"
                        ],
                        [
                          0.1111111111111111,
                          "#46039f"
                        ],
                        [
                          0.2222222222222222,
                          "#7201a8"
                        ],
                        [
                          0.3333333333333333,
                          "#9c179e"
                        ],
                        [
                          0.4444444444444444,
                          "#bd3786"
                        ],
                        [
                          0.5555555555555556,
                          "#d8576b"
                        ],
                        [
                          0.6666666666666666,
                          "#ed7953"
                        ],
                        [
                          0.7777777777777778,
                          "#fb9f3a"
                        ],
                        [
                          0.8888888888888888,
                          "#fdca26"
                        ],
                        [
                          1,
                          "#f0f921"
                        ]
                      ]
                    },
                    "colorway": [
                      "#636efa",
                      "#EF553B",
                      "#00cc96",
                      "#ab63fa",
                      "#FFA15A",
                      "#19d3f3",
                      "#FF6692",
                      "#B6E880",
                      "#FF97FF",
                      "#FECB52"
                    ],
                    "font": {
                      "color": "#2a3f5f"
                    },
                    "geo": {
                      "bgcolor": "white",
                      "lakecolor": "white",
                      "landcolor": "#E5ECF6",
                      "showlakes": true,
                      "showland": true,
                      "subunitcolor": "white"
                    },
                    "hoverlabel": {
                      "align": "left"
                    },
                    "hovermode": "closest",
                    "mapbox": {
                      "style": "light"
                    },
                    "paper_bgcolor": "white",
                    "plot_bgcolor": "#E5ECF6",
                    "polar": {
                      "angularaxis": {
                        "gridcolor": "white",
                        "linecolor": "white",
                        "ticks": ""
                      },
                      "bgcolor": "#E5ECF6",
                      "radialaxis": {
                        "gridcolor": "white",
                        "linecolor": "white",
                        "ticks": ""
                      }
                    },
                    "scene": {
                      "xaxis": {
                        "backgroundcolor": "#E5ECF6",
                        "gridcolor": "white",
                        "gridwidth": 2,
                        "linecolor": "white",
                        "showbackground": true,
                        "ticks": "",
                        "zerolinecolor": "white"
                      },
                      "yaxis": {
                        "backgroundcolor": "#E5ECF6",
                        "gridcolor": "white",
                        "gridwidth": 2,
                        "linecolor": "white",
                        "showbackground": true,
                        "ticks": "",
                        "zerolinecolor": "white"
                      },
                      "zaxis": {
                        "backgroundcolor": "#E5ECF6",
                        "gridcolor": "white",
                        "gridwidth": 2,
                        "linecolor": "white",
                        "showbackground": true,
                        "ticks": "",
                        "zerolinecolor": "white"
                      }
                    },
                    "shapedefaults": {
                      "line": {
                        "color": "#2a3f5f"
                      }
                    },
                    "ternary": {
                      "aaxis": {
                        "gridcolor": "white",
                        "linecolor": "white",
                        "ticks": ""
                      },
                      "baxis": {
                        "gridcolor": "white",
                        "linecolor": "white",
                        "ticks": ""
                      },
                      "bgcolor": "#E5ECF6",
                      "caxis": {
                        "gridcolor": "white",
                        "linecolor": "white",
                        "ticks": ""
                      }
                    },
                    "title": {
                      "x": 0.05
                    },
                    "xaxis": {
                      "automargin": true,
                      "gridcolor": "white",
                      "linecolor": "white",
                      "ticks": "",
                      "title": {
                        "standoff": 15
                      },
                      "zerolinecolor": "white",
                      "zerolinewidth": 2
                    },
                    "yaxis": {
                      "automargin": true,
                      "gridcolor": "white",
                      "linecolor": "white",
                      "ticks": "",
                      "title": {
                        "standoff": 15
                      },
                      "zerolinecolor": "white",
                      "zerolinewidth": 2
                    }
                  }
                },
                "title": {
                  "text": "Actual vs. Median Predicted Rate for Each Pay Tier"
                },
                "xaxis": {
                  "anchor": "y",
                  "categoryarray": [
                    "$100 - $150",
                    "$150 - $200",
                    "$200 - $250",
                    "$250 - $300",
                    "$300 - $350",
                    "$350 - $400",
                    "$400 - $450",
                    "$450 - $500"
                  ],
                  "categoryorder": "array",
                  "domain": [
                    0,
                    1
                  ],
                  "title": {
                    "text": "Actual Hourly Rate Bins (USD)"
                  }
                },
                "yaxis": {
                  "anchor": "x",
                  "domain": [
                    0,
                    1
                  ],
                  "title": {
                    "text": "Hourly Rate (USD)"
                  }
                }
              }
            }
          },
          "metadata": {},
          "output_type": "display_data"
        }
      ],
      "source": [
        "# Visualize Results with Binned Bar Chart\n",
        "\n",
        "if model:\n",
        "    # Bin the Data\n",
        "    # Create bins for the actual hourly rate to group the data.\n",
        "    bin_size = 50\n",
        "    min_val = int(np.floor(final_df['actual_rate'].min() / bin_size)) * bin_size\n",
        "    max_val = int(np.ceil(final_df['actual_rate'].max() / bin_size)) * bin_size\n",
        "    \n",
        "    bins = np.arange(min_val, max_val + bin_size, bin_size)\n",
        "    labels = [f\"${int(bins[i])} - ${int(bins[i+1])}\" for i in range(len(bins)-1)]\n",
        "    \n",
        "    final_df['actual_rate_bin'] = pd.cut(final_df['actual_rate'], bins=bins, labels=labels, right=False)\n",
        "\n",
        "    # Prepare Data for Comparison\n",
        "    # For each bin, we need the actual midpoint and the median of our predictions.\n",
        "    \n",
        "    # Find the median prediction for each bin\n",
        "    binned_predictions = final_df.groupby('actual_rate_bin')['predicted_rate'].median().reset_index()\n",
        "    \n",
        "    # Find the midpoint of each actual rate bin to use as the \"Actual\" value\n",
        "    binned_predictions['actual_midpoint'] = bins[:-1] + bin_size / 2\n",
        "    \n",
        "    # Melt the df into a long format suitable for a grouped bar chart\n",
        "    plot_df = pd.melt(\n",
        "        binned_predictions,\n",
        "        id_vars=['actual_rate_bin'],\n",
        "        value_vars=['actual_midpoint', 'predicted_rate'],\n",
        "        var_name='type',\n",
        "        value_name='rate'\n",
        "    )\n",
        "    plot_df['type'] = plot_df['type'].map({'actual_midpoint': 'Actual Rate', 'predicted_rate': 'Predicted Rate'})\n",
        "\n",
        "    # Create the Bar Chart\n",
        "    # This chart provides the clearest, most direct comparison of performance.\n",
        "    fig = px.bar(\n",
        "        plot_df,\n",
        "        x='actual_rate_bin',\n",
        "        y='rate',\n",
        "        color='type',\n",
        "        barmode='group', # Creates the side-by-side bars\n",
        "        labels={\n",
        "            \"actual_rate_bin\": \"Actual Hourly Rate Bins (USD)\",\n",
        "            \"rate\": \"Hourly Rate (USD)\",\n",
        "            \"type\": \"Rate Type\"\n",
        "        },\n",
        "        title=\"Actual vs. Median Predicted Rate for Each Pay Tier\"\n",
        "    )\n",
        "\n",
        "    fig.update_layout(\n",
        "        height=600,\n",
        "        legend_title_text=None,\n",
        "        xaxis={'categoryorder':'array', 'categoryarray': labels}\n",
        "    )\n",
        "    \n",
        "    fig.show()\n"
      ]
    },
    {
      "cell_type": "markdown",
      "metadata": {},
      "source": [
        "# 4. Visualize Individual Predictions with Jitter\n",
        "\n",
        "The bar chart above provides an excellent summary of performance, but it's also useful to see the individual predictions. To visualize every prediction without the unreadable overplotting we saw in our first attempt, we can use a scatter plot with **jitter** and **transparency**.\n",
        "\n",
        "-   **Jitter:** A small amount of random noise is added to the vertical position of each point. This spreads the overlapping points out into \"prediction clouds.\"\n",
        "-   **Transparency:** The points are made semi-transparent, so the areas with the most dense predictions appear darker.\n",
        "\n",
        "This gives us an intuitive and professional view of the model's behavior on individual data points.\n"
      ]
    },
    {
      "cell_type": "code",
      "execution_count": null,
      "metadata": {},
      "outputs": [
        {
          "data": {
            "application/vnd.plotly.v1+json": {
              "config": {
                "plotlyServerURL": "https://plot.ly"
              },
              "data": [
                {
                  "marker": {
                    "color": "blue",
                    "opacity": 0.3,
                    "size": 6
                  },
                  "mode": "markers",
                  "name": "Individual Predictions",
                  "type": "scatter",
                  "x": {
                    "bdata": "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",
                    "dtype": "f8"
                  },
                  "y": {
                    "bdata": "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",
                    "dtype": "f8"
                  }
                },
                {
                  "line": {
                    "color": "red",
                    "dash": "dash"
                  },
                  "mode": "lines",
                  "name": "Perfect Prediction",
                  "type": "scatter",
                  "x": [
                    100,
                    500
                  ],
                  "y": [
                    100,
                    500
                  ]
                }
              ],
              "layout": {
                "height": 700,
                "legend": {
                  "title": {
                    "text": "Legend"
                  }
                },
                "template": {
                  "data": {
                    "bar": [
                      {
                        "error_x": {
                          "color": "#2a3f5f"
                        },
                        "error_y": {
                          "color": "#2a3f5f"
                        },
                        "marker": {
                          "line": {
                            "color": "#E5ECF6",
                            "width": 0.5
                          },
                          "pattern": {
                            "fillmode": "overlay",
                            "size": 10,
                            "solidity": 0.2
                          }
                        },
                        "type": "bar"
                      }
                    ],
                    "barpolar": [
                      {
                        "marker": {
                          "line": {
                            "color": "#E5ECF6",
                            "width": 0.5
                          },
                          "pattern": {
                            "fillmode": "overlay",
                            "size": 10,
                            "solidity": 0.2
                          }
                        },
                        "type": "barpolar"
                      }
                    ],
                    "carpet": [
                      {
                        "aaxis": {
                          "endlinecolor": "#2a3f5f",
                          "gridcolor": "white",
                          "linecolor": "white",
                          "minorgridcolor": "white",
                          "startlinecolor": "#2a3f5f"
                        },
                        "baxis": {
                          "endlinecolor": "#2a3f5f",
                          "gridcolor": "white",
                          "linecolor": "white",
                          "minorgridcolor": "white",
                          "startlinecolor": "#2a3f5f"
                        },
                        "type": "carpet"
                      }
                    ],
                    "choropleth": [
                      {
                        "colorbar": {
                          "outlinewidth": 0,
                          "ticks": ""
                        },
                        "type": "choropleth"
                      }
                    ],
                    "contour": [
                      {
                        "colorbar": {
                          "outlinewidth": 0,
                          "ticks": ""
                        },
                        "colorscale": [
                          [
                            0,
                            "#0d0887"
                          ],
                          [
                            0.1111111111111111,
                            "#46039f"
                          ],
                          [
                            0.2222222222222222,
                            "#7201a8"
                          ],
                          [
                            0.3333333333333333,
                            "#9c179e"
                          ],
                          [
                            0.4444444444444444,
                            "#bd3786"
                          ],
                          [
                            0.5555555555555556,
                            "#d8576b"
                          ],
                          [
                            0.6666666666666666,
                            "#ed7953"
                          ],
                          [
                            0.7777777777777778,
                            "#fb9f3a"
                          ],
                          [
                            0.8888888888888888,
                            "#fdca26"
                          ],
                          [
                            1,
                            "#f0f921"
                          ]
                        ],
                        "type": "contour"
                      }
                    ],
                    "contourcarpet": [
                      {
                        "colorbar": {
                          "outlinewidth": 0,
                          "ticks": ""
                        },
                        "type": "contourcarpet"
                      }
                    ],
                    "heatmap": [
                      {
                        "colorbar": {
                          "outlinewidth": 0,
                          "ticks": ""
                        },
                        "colorscale": [
                          [
                            0,
                            "#0d0887"
                          ],
                          [
                            0.1111111111111111,
                            "#46039f"
                          ],
                          [
                            0.2222222222222222,
                            "#7201a8"
                          ],
                          [
                            0.3333333333333333,
                            "#9c179e"
                          ],
                          [
                            0.4444444444444444,
                            "#bd3786"
                          ],
                          [
                            0.5555555555555556,
                            "#d8576b"
                          ],
                          [
                            0.6666666666666666,
                            "#ed7953"
                          ],
                          [
                            0.7777777777777778,
                            "#fb9f3a"
                          ],
                          [
                            0.8888888888888888,
                            "#fdca26"
                          ],
                          [
                            1,
                            "#f0f921"
                          ]
                        ],
                        "type": "heatmap"
                      }
                    ],
                    "histogram": [
                      {
                        "marker": {
                          "pattern": {
                            "fillmode": "overlay",
                            "size": 10,
                            "solidity": 0.2
                          }
                        },
                        "type": "histogram"
                      }
                    ],
                    "histogram2d": [
                      {
                        "colorbar": {
                          "outlinewidth": 0,
                          "ticks": ""
                        },
                        "colorscale": [
                          [
                            0,
                            "#0d0887"
                          ],
                          [
                            0.1111111111111111,
                            "#46039f"
                          ],
                          [
                            0.2222222222222222,
                            "#7201a8"
                          ],
                          [
                            0.3333333333333333,
                            "#9c179e"
                          ],
                          [
                            0.4444444444444444,
                            "#bd3786"
                          ],
                          [
                            0.5555555555555556,
                            "#d8576b"
                          ],
                          [
                            0.6666666666666666,
                            "#ed7953"
                          ],
                          [
                            0.7777777777777778,
                            "#fb9f3a"
                          ],
                          [
                            0.8888888888888888,
                            "#fdca26"
                          ],
                          [
                            1,
                            "#f0f921"
                          ]
                        ],
                        "type": "histogram2d"
                      }
                    ],
                    "histogram2dcontour": [
                      {
                        "colorbar": {
                          "outlinewidth": 0,
                          "ticks": ""
                        },
                        "colorscale": [
                          [
                            0,
                            "#0d0887"
                          ],
                          [
                            0.1111111111111111,
                            "#46039f"
                          ],
                          [
                            0.2222222222222222,
                            "#7201a8"
                          ],
                          [
                            0.3333333333333333,
                            "#9c179e"
                          ],
                          [
                            0.4444444444444444,
                            "#bd3786"
                          ],
                          [
                            0.5555555555555556,
                            "#d8576b"
                          ],
                          [
                            0.6666666666666666,
                            "#ed7953"
                          ],
                          [
                            0.7777777777777778,
                            "#fb9f3a"
                          ],
                          [
                            0.8888888888888888,
                            "#fdca26"
                          ],
                          [
                            1,
                            "#f0f921"
                          ]
                        ],
                        "type": "histogram2dcontour"
                      }
                    ],
                    "mesh3d": [
                      {
                        "colorbar": {
                          "outlinewidth": 0,
                          "ticks": ""
                        },
                        "type": "mesh3d"
                      }
                    ],
                    "parcoords": [
                      {
                        "line": {
                          "colorbar": {
                            "outlinewidth": 0,
                            "ticks": ""
                          }
                        },
                        "type": "parcoords"
                      }
                    ],
                    "pie": [
                      {
                        "automargin": true,
                        "type": "pie"
                      }
                    ],
                    "scatter": [
                      {
                        "fillpattern": {
                          "fillmode": "overlay",
                          "size": 10,
                          "solidity": 0.2
                        },
                        "type": "scatter"
                      }
                    ],
                    "scatter3d": [
                      {
                        "line": {
                          "colorbar": {
                            "outlinewidth": 0,
                            "ticks": ""
                          }
                        },
                        "marker": {
                          "colorbar": {
                            "outlinewidth": 0,
                            "ticks": ""
                          }
                        },
                        "type": "scatter3d"
                      }
                    ],
                    "scattercarpet": [
                      {
                        "marker": {
                          "colorbar": {
                            "outlinewidth": 0,
                            "ticks": ""
                          }
                        },
                        "type": "scattercarpet"
                      }
                    ],
                    "scattergeo": [
                      {
                        "marker": {
                          "colorbar": {
                            "outlinewidth": 0,
                            "ticks": ""
                          }
                        },
                        "type": "scattergeo"
                      }
                    ],
                    "scattergl": [
                      {
                        "marker": {
                          "colorbar": {
                            "outlinewidth": 0,
                            "ticks": ""
                          }
                        },
                        "type": "scattergl"
                      }
                    ],
                    "scattermap": [
                      {
                        "marker": {
                          "colorbar": {
                            "outlinewidth": 0,
                            "ticks": ""
                          }
                        },
                        "type": "scattermap"
                      }
                    ],
                    "scattermapbox": [
                      {
                        "marker": {
                          "colorbar": {
                            "outlinewidth": 0,
                            "ticks": ""
                          }
                        },
                        "type": "scattermapbox"
                      }
                    ],
                    "scatterpolar": [
                      {
                        "marker": {
                          "colorbar": {
                            "outlinewidth": 0,
                            "ticks": ""
                          }
                        },
                        "type": "scatterpolar"
                      }
                    ],
                    "scatterpolargl": [
                      {
                        "marker": {
                          "colorbar": {
                            "outlinewidth": 0,
                            "ticks": ""
                          }
                        },
                        "type": "scatterpolargl"
                      }
                    ],
                    "scatterternary": [
                      {
                        "marker": {
                          "colorbar": {
                            "outlinewidth": 0,
                            "ticks": ""
                          }
                        },
                        "type": "scatterternary"
                      }
                    ],
                    "surface": [
                      {
                        "colorbar": {
                          "outlinewidth": 0,
                          "ticks": ""
                        },
                        "colorscale": [
                          [
                            0,
                            "#0d0887"
                          ],
                          [
                            0.1111111111111111,
                            "#46039f"
                          ],
                          [
                            0.2222222222222222,
                            "#7201a8"
                          ],
                          [
                            0.3333333333333333,
                            "#9c179e"
                          ],
                          [
                            0.4444444444444444,
                            "#bd3786"
                          ],
                          [
                            0.5555555555555556,
                            "#d8576b"
                          ],
                          [
                            0.6666666666666666,
                            "#ed7953"
                          ],
                          [
                            0.7777777777777778,
                            "#fb9f3a"
                          ],
                          [
                            0.8888888888888888,
                            "#fdca26"
                          ],
                          [
                            1,
                            "#f0f921"
                          ]
                        ],
                        "type": "surface"
                      }
                    ],
                    "table": [
                      {
                        "cells": {
                          "fill": {
                            "color": "#EBF0F8"
                          },
                          "line": {
                            "color": "white"
                          }
                        },
                        "header": {
                          "fill": {
                            "color": "#C8D4E3"
                          },
                          "line": {
                            "color": "white"
                          }
                        },
                        "type": "table"
                      }
                    ]
                  },
                  "layout": {
                    "annotationdefaults": {
                      "arrowcolor": "#2a3f5f",
                      "arrowhead": 0,
                      "arrowwidth": 1
                    },
                    "autotypenumbers": "strict",
                    "coloraxis": {
                      "colorbar": {
                        "outlinewidth": 0,
                        "ticks": ""
                      }
                    },
                    "colorscale": {
                      "diverging": [
                        [
                          0,
                          "#8e0152"
                        ],
                        [
                          0.1,
                          "#c51b7d"
                        ],
                        [
                          0.2,
                          "#de77ae"
                        ],
                        [
                          0.3,
                          "#f1b6da"
                        ],
                        [
                          0.4,
                          "#fde0ef"
                        ],
                        [
                          0.5,
                          "#f7f7f7"
                        ],
                        [
                          0.6,
                          "#e6f5d0"
                        ],
                        [
                          0.7,
                          "#b8e186"
                        ],
                        [
                          0.8,
                          "#7fbc41"
                        ],
                        [
                          0.9,
                          "#4d9221"
                        ],
                        [
                          1,
                          "#276419"
                        ]
                      ],
                      "sequential": [
                        [
                          0,
                          "#0d0887"
                        ],
                        [
                          0.1111111111111111,
                          "#46039f"
                        ],
                        [
                          0.2222222222222222,
                          "#7201a8"
                        ],
                        [
                          0.3333333333333333,
                          "#9c179e"
                        ],
                        [
                          0.4444444444444444,
                          "#bd3786"
                        ],
                        [
                          0.5555555555555556,
                          "#d8576b"
                        ],
                        [
                          0.6666666666666666,
                          "#ed7953"
                        ],
                        [
                          0.7777777777777778,
                          "#fb9f3a"
                        ],
                        [
                          0.8888888888888888,
                          "#fdca26"
                        ],
                        [
                          1,
                          "#f0f921"
                        ]
                      ],
                      "sequentialminus": [
                        [
                          0,
                          "#0d0887"
                        ],
                        [
                          0.1111111111111111,
                          "#46039f"
                        ],
                        [
                          0.2222222222222222,
                          "#7201a8"
                        ],
                        [
                          0.3333333333333333,
                          "#9c179e"
                        ],
                        [
                          0.4444444444444444,
                          "#bd3786"
                        ],
                        [
                          0.5555555555555556,
                          "#d8576b"
                        ],
                        [
                          0.6666666666666666,
                          "#ed7953"
                        ],
                        [
                          0.7777777777777778,
                          "#fb9f3a"
                        ],
                        [
                          0.8888888888888888,
                          "#fdca26"
                        ],
                        [
                          1,
                          "#f0f921"
                        ]
                      ]
                    },
                    "colorway": [
                      "#636efa",
                      "#EF553B",
                      "#00cc96",
                      "#ab63fa",
                      "#FFA15A",
                      "#19d3f3",
                      "#FF6692",
                      "#B6E880",
                      "#FF97FF",
                      "#FECB52"
                    ],
                    "font": {
                      "color": "#2a3f5f"
                    },
                    "geo": {
                      "bgcolor": "white",
                      "lakecolor": "white",
                      "landcolor": "#E5ECF6",
                      "showlakes": true,
                      "showland": true,
                      "subunitcolor": "white"
                    },
                    "hoverlabel": {
                      "align": "left"
                    },
                    "hovermode": "closest",
                    "mapbox": {
                      "style": "light"
                    },
                    "paper_bgcolor": "white",
                    "plot_bgcolor": "#E5ECF6",
                    "polar": {
                      "angularaxis": {
                        "gridcolor": "white",
                        "linecolor": "white",
                        "ticks": ""
                      },
                      "bgcolor": "#E5ECF6",
                      "radialaxis": {
                        "gridcolor": "white",
                        "linecolor": "white",
                        "ticks": ""
                      }
                    },
                    "scene": {
                      "xaxis": {
                        "backgroundcolor": "#E5ECF6",
                        "gridcolor": "white",
                        "gridwidth": 2,
                        "linecolor": "white",
                        "showbackground": true,
                        "ticks": "",
                        "zerolinecolor": "white"
                      },
                      "yaxis": {
                        "backgroundcolor": "#E5ECF6",
                        "gridcolor": "white",
                        "gridwidth": 2,
                        "linecolor": "white",
                        "showbackground": true,
                        "ticks": "",
                        "zerolinecolor": "white"
                      },
                      "zaxis": {
                        "backgroundcolor": "#E5ECF6",
                        "gridcolor": "white",
                        "gridwidth": 2,
                        "linecolor": "white",
                        "showbackground": true,
                        "ticks": "",
                        "zerolinecolor": "white"
                      }
                    },
                    "shapedefaults": {
                      "line": {
                        "color": "#2a3f5f"
                      }
                    },
                    "ternary": {
                      "aaxis": {
                        "gridcolor": "white",
                        "linecolor": "white",
                        "ticks": ""
                      },
                      "baxis": {
                        "gridcolor": "white",
                        "linecolor": "white",
                        "ticks": ""
                      },
                      "bgcolor": "#E5ECF6",
                      "caxis": {
                        "gridcolor": "white",
                        "linecolor": "white",
                        "ticks": ""
                      }
                    },
                    "title": {
                      "x": 0.05
                    },
                    "xaxis": {
                      "automargin": true,
                      "gridcolor": "white",
                      "linecolor": "white",
                      "ticks": "",
                      "title": {
                        "standoff": 15
                      },
                      "zerolinecolor": "white",
                      "zerolinewidth": 2
                    },
                    "yaxis": {
                      "automargin": true,
                      "gridcolor": "white",
                      "linecolor": "white",
                      "ticks": "",
                      "title": {
                        "standoff": 15
                      },
                      "zerolinecolor": "white",
                      "zerolinewidth": 2
                    }
                  }
                },
                "title": {
                  "text": "Actual vs. Predicted Rates (with Jitter)"
                },
                "xaxis": {
                  "title": {
                    "text": "Actual Hourly Rate (USD)"
                  }
                },
                "yaxis": {
                  "title": {
                    "text": "Predicted Hourly Rate (USD)"
                  }
                }
              }
            }
          },
          "metadata": {},
          "output_type": "display_data"
        }
      ],
      "source": [
        "# Create the Jittered Scatter Plot\n",
        "if model:\n",
        "    # Create a copy to avoid modifying the original dataframe\n",
        "    jitter_df = final_df.copy()\n",
        "    \n",
        "    # Add a small amount of random \"jitter\" to the y-axis values.\n",
        "    # The amount of jitter is scaled to the standard deviation of the predictions.\n",
        "    jitter_strength = 0.2\n",
        "    prediction_std = jitter_df['predicted_rate'].std()\n",
        "    jitter_df['predicted_rate_jittered'] = jitter_df['predicted_rate'] + \\\n",
        "        np.random.randn(len(jitter_df)) * prediction_std * jitter_strength\n",
        "\n",
        "    fig = go.Figure()\n",
        "\n",
        "    # Add the jittered and transparent scatter points\n",
        "    fig.add_trace(go.Scatter(\n",
        "        x=jitter_df['actual_rate'],\n",
        "        y=jitter_df['predicted_rate_jittered'],\n",
        "        mode='markers',\n",
        "        name='Individual Predictions',\n",
        "        marker=dict(\n",
        "            color='blue',\n",
        "            opacity=0.3, # Transparency to show density\n",
        "            size=6\n",
        "        )\n",
        "    ))\n",
        "\n",
        "    # Add a perfect prediction line (y=x) for reference\n",
        "    max_val = max(jitter_df['actual_rate'].max(), jitter_df['predicted_rate'].max())\n",
        "    min_val = min(jitter_df['actual_rate'].min(), jitter_df['predicted_rate'].min())\n",
        "    fig.add_trace(go.Scatter(\n",
        "        x=[min_val, max_val],\n",
        "        y=[min_val, max_val],\n",
        "        mode='lines',\n",
        "        name='Perfect Prediction',\n",
        "        line=dict(color='red', dash='dash')\n",
        "    ))\n",
        "\n",
        "    fig.update_layout(\n",
        "        title='Actual vs. Predicted Rates (with Jitter)',\n",
        "        xaxis_title='Actual Hourly Rate (USD)',\n",
        "        yaxis_title='Predicted Hourly Rate (USD)',\n",
        "        legend_title=\"Legend\",\n",
        "        height=700\n",
        "    )\n",
        "\n",
        "    fig.show()\n"
      ]
    }
  ],
  "metadata": {
    "kernelspec": {
      "display_name": "Python 3",
      "language": "python",
      "name": "python3"
    },
    "language_info": {
      "codemirror_mode": {
        "name": "ipython",
        "version": 3
      },
      "file_extension": ".py",
      "mimetype": "text/x-python",
      "name": "python",
      "nbconvert_exporter": "python",
      "pygments_lexer": "ipython3",
      "version": "3.9.6"
    }
  },
  "nbformat": 4,
  "nbformat_minor": 2
}
